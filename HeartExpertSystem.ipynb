{
  cells:[
  {
   "cell_type": "markdown",
   "metadata": {},
   "source": [
    "Heart disorders are frequently controlled efficiently with a combination of life-style changes, remedy and, in a few cases, surgical treatment. With the right treatment, the signs of coronary heart circumstance are frequently decreased and consequently the functioning of the heart is improved.. The predicted results can be used to prevent and thus reduce cost for surgical treatment and other costs. The overall aim of our project is to make decisions accurately with few tests for the presence of heart disorders.  Merits taken into consideration shape the primary foundation for exams and present correct effects extra or less. Decisions are frequently made supported by doctors’ instinct and information in preference to the information wealthy facts hidden in the facts set and databases This practice leads to undesired prejudice and expensive medical costs which negatively impact the quality of service provided to patients. Data-mining is a boon to the medical management industry to authorise wellness programs to comprehensively use data and analytics to figure out inability and better ways that boost care and cut down costs."
   ]
  },
  {
   "cell_type": "markdown",
   "metadata": {},
   "source": [
    "In these models we used data preprocessing, logistic regression and the SVM algorithm of machine learning. Machine learning is the ability of a computer to sense raw data and predict the result after processing it.\n",
    "\n",
    "\n",
    "\n",
    "<b>Data preprocessing </b>\n",
    "The conversion of raw data so that data can be used in a useful and appropriate manner.\n",
    "\n",
    "<b>Steps involved :</b>\n",
    "Data Cleaning : Data cleaning is the process to avoid many unwanted, pointless and lost parts.\n",
    "It comprises of following parts :\n",
    "Binning method : Flattening of data by arranging data.\n",
    "Data is categorised into the same size and then certain methods are applied to complete it.\n",
    "Regression : Fitting of data into regression function.It can be linear or multiple.\n",
    "Clustering : Grouping of identical data into clusters.\n",
    "\n",
    "<b>Data transformation</b> : For ease the process of mining , transformation of data is done.\n",
    "It consists of : \n",
    "<b>Min-max normalization-</b> For each feature, the min value of that feature is  transformed into 0, the max value gets transformed into a 1, and every other value gets transformed into a decimal between 0 and 1<br>\n",
    "<b>Attribute Selection : </b>New attributes are made by using the provided set of attributes.<br>\n",
    "<b>Discretization :</b> Replacing of raw numeric attributes by visionary level.<br>\n",
    "<b>Data Reduction :</b>To improve the storage adaptability , cut the analysis cost.<br>\n",
    "Steps involved in data reduction :\n",
    "<b>Data cube aggregation : </b>Construction of data cube by gathering the data.<br>\n",
    "<b>Attribute Subset Selection :</b> The most admissible attribute is to be kept and rest discarded. For selection, p-value and use level of significance can be used. One with p-value less than significance level should be taken.<br>\n",
    "<b>Numerosity Reduction :</b> Store the model rather than aggregating data .<br>\n",
    "<b>Dimensionality Reduction :</b> Encode the data and thus reduce the size.<br>\n",
    " \n",
    "\n",
    "\t\n",
    " \t\t\t\t\t\t\t\t\t\n",
    "<b>Model Development</b>\n",
    "In model development we use Cross validation technique as it estimates the skill of the model on unseen data, also as the sample data is small thats why it is more important to use cross validation it helps to use data more efficiently and give us better understanding of the applied algorithm.\n",
    "\n",
    "<b>Cross-validation</b>\n",
    "Cross-validation is a resampling procedure used to evaluate machine learning models on a limited data sample. The procedure has a single parameter called k that refers to the number of groups that a given data sample is to be split into. As such, the procedure is often called k-fold cross-validation.\n",
    "So what it does is, it divides our data into k different folds and fits the algorithm on these 5 folds  and calculates the accuracy. It uses a method called Stacking to finally present the mean accuracy.This significantly reduces bias as we are using most of the data for fitting, and also significantly reduces variance as most of the data is also being used in the validation set.\n",
    "\n",
    "<b>Logistic regression </b>\n",
    "\n",
    "It is a supervised learning classification algorithm which predicts the dependent categorical variable. The dependent variable is dichotomous i.e., only two outputs are possible.It predicts the probability of something such as whether the given cholesterol level of a patient makes him vulnerable to heart disease or not. \n",
    "This algorithm is used to solve classification problems which makes it different from linear regression which is used for solving regression problems . \n",
    "This model uses the theory of predictive modelling.\n",
    "\n",
    "Logistic regression predicts P(Y=1) as a function of X.\n",
    "Along with heart disease prediction we can predict diabetes prediction, spam detection, cancer detection, etc.\n",
    "\n",
    "In this model  there is a threshold value which determines the probability . \n",
    "If value > threshold -> Probability = 1,\n",
    "   value < threshold -> Probability = 0. \n",
    "Threshold value can be calculated by using roc and auc curve along with the cohesion matrix.\n"
   ]
  },
  {
   "cell_type": "markdown",
   "metadata": {
    "heading_collapsed": true
   },
   "source": [
    "## Project Context"
   ]
  },
  {
   "cell_type": "markdown",
   "metadata": {
    "hidden": true
   },
   "source": [
    "<b> Data Procurment Information </b>\n",
    "\n",
    "This database contains 76 attributes, but all published experiments refer to using a subset of 14 of them. In particular, the Cleveland database is the only one that has been used by ML researchers to\n",
    "this date. The \"goal\" field refers to the presence of heart disease in the patient. It is integer valued from 0 (no presence) to 4.\n",
    "\n",
    "The names and social security numbers of the patients were recently removed from the database, replaced with dummy values. One file has been \"processed\", that one containing the Cleveland database. All four unprocessed files also exist in this directory.\n",
    "\n",
    "<b>Creators: </b>\n",
    "\n",
    "1. Hungarian Institute of Cardiology. Budapest: Andras Janosi, M.D.\n",
    "2. University Hospital, Zurich, Switzerland: William Steinbrunn, M.D.\n",
    "3. University Hospital, Basel, Switzerland: Matthias Pfisterer, M.D.\n",
    "4. V.A. Medical Center, Long Beach and Cleveland Clinic Foundation: Robert Detrano, M.D., Ph.D.\n",
    "\n",
    "<b>Attribute Information</b>\n",
    "1. age\n",
    "2. sex\n",
    "3. chest pain type (4 values)\n",
    "4. resting blood pressure\n",
    "5. serum cholestoral in mg/dl\n",
    "6. fasting blood sugar > 120 mg/dl\n",
    "7. resting electrocardiographic results (values 0,1,2)\n",
    "8. maximum heart rate achieved\n",
    "9. exercise induced angina\n",
    "10. oldpeak = ST depression induced by exercise relative to rest\n",
    "11. the slope of the peak exercise ST segment\n",
    "12. number of major vessels (0-3) colored by flourosopy\n",
    "thal: 3 = normal; 6 = fixed defect; 7 = reversable defect"
   ]
  },
  {
   "cell_type": "markdown",
   "metadata": {
    "heading_collapsed": true
   },
   "source": [
    "## Import Library"
   ]
  },
  {
   "cell_type": "markdown",
   "metadata": {
    "hidden": true
   },
   "source": [
    "Import required libraries for data pre processing, data loading, data transformation and data modelling"
   ]
  },
  {
   "cell_type": "code",
   "execution_count": 134,
   "metadata": {
    "ExecuteTime": {
     "end_time": "2020-11-27T13:48:04.088739Z",
     "start_time": "2020-11-27T13:48:03.121563Z"
    },
    "hidden": true
   },
   "outputs": [],
   "source": [
    "import pandas as pd\n",
    "import numpy as np\n",
    "\n",
    "import matplotlib\n",
    "%matplotlib inline\n",
    "import matplotlib.pyplot as plt\n",
    "import seaborn as sns\n",
    "import warnings\n",
    "warnings.filterwarnings('ignore')\n",
    "from sklearn.preprocessing import StandardScaler,MinMaxScaler\n",
    "from sklearn.metrics import accuracy_score\n",
    "from sklearn.metrics import confusion_matrix\n",
    "from sklearn.metrics import f1_score\n",
    "from sklearn.model_selection import train_test_split\n",
    "from sklearn.model_selection import cross_val_score\n",
    "from sklearn.linear_model import LogisticRegression\n",
    "from sklearn.model_selection import cross_validate\n",
    "from sklearn import metrics"
   ]
  },
  {
   "cell_type": "markdown",
   "metadata": {
    "heading_collapsed": true
   },
   "source": [
    "## Reading Data"
   ]
  },
  {
   "cell_type": "markdown",
   "metadata": {
    "hidden": true
   },
   "source": [
    "Dataset on Heart disease (Source UCI machine learning repository)"
   ]
  },
  {
   "cell_type": "code",
   "execution_count": 135,
   "metadata": {
    "ExecuteTime": {
     "end_time": "2020-11-27T13:48:24.497467Z",
     "start_time": "2020-11-27T13:48:24.480834Z"
    },
    "hidden": true
   },
   "outputs": [],
   "source": [
    "df=pd.read_csv(\"C:/Users/user/Downloads/heart_disease_uci.csv\")"
   ]
  },
  {
   "cell_type": "markdown",
   "metadata": {
    "heading_collapsed": true
   },
   "source": [
    "## Data Exploration"
   ]
  },
  {
   "cell_type": "markdown",
   "metadata": {
    "hidden": true
   },
   "source": [
    "<b>Checking number of records and attributes in data </b>"
   ]
  },
  {
   "cell_type": "code",
   "execution_count": 136,
   "metadata": {
    "ExecuteTime": {
     "end_time": "2020-11-27T13:48:26.634069Z",
     "start_time": "2020-11-27T13:48:26.612129Z"
    },
    "hidden": true,
    "scrolled": true
   },
   "outputs": [
    {
     "data": {
      "text/html": [
       "<div>\n",
       "<style scoped>\n",
       "    .dataframe tbody tr th:only-of-type {\n",
       "        vertical-align: middle;\n",
       "    }\n",
       "\n",
       "    .dataframe tbody tr th {\n",
       "        vertical-align: top;\n",
       "    }\n",
       "\n",
       "    .dataframe thead th {\n",
       "        text-align: right;\n",
       "    }\n",
       "</style>\n",
       "<table border=\"1\" class=\"dataframe\">\n",
       "  <thead>\n",
       "    <tr style=\"text-align: right;\">\n",
       "      <th></th>\n",
       "      <th>id</th>\n",
       "      <th>age</th>\n",
       "      <th>sex</th>\n",
       "      <th>dataset</th>\n",
       "      <th>cp</th>\n",
       "      <th>trestbps</th>\n",
       "      <th>chol</th>\n",
       "      <th>fbs</th>\n",
       "      <th>restecg</th>\n",
       "      <th>thalch</th>\n",
       "      <th>exang</th>\n",
       "      <th>oldpeak</th>\n",
       "      <th>slope</th>\n",
       "      <th>ca</th>\n",
       "      <th>thal</th>\n",
       "      <th>num</th>\n",
       "    </tr>\n",
       "  </thead>\n",
       "  <tbody>\n",
       "    <tr>\n",
       "      <th>0</th>\n",
       "      <td>1</td>\n",
       "      <td>63</td>\n",
       "      <td>Male</td>\n",
       "      <td>Cleveland</td>\n",
       "      <td>typical angina</td>\n",
       "      <td>145.0</td>\n",
       "      <td>233.0</td>\n",
       "      <td>True</td>\n",
       "      <td>lv hypertrophy</td>\n",
       "      <td>150.0</td>\n",
       "      <td>False</td>\n",
       "      <td>2.3</td>\n",
       "      <td>downsloping</td>\n",
       "      <td>0.0</td>\n",
       "      <td>fixed defect</td>\n",
       "      <td>0</td>\n",
       "    </tr>\n",
       "    <tr>\n",
       "      <th>1</th>\n",
       "      <td>2</td>\n",
       "      <td>67</td>\n",
       "      <td>Male</td>\n",
       "      <td>Cleveland</td>\n",
       "      <td>asymptomatic</td>\n",
       "      <td>160.0</td>\n",
       "      <td>286.0</td>\n",
       "      <td>False</td>\n",
       "      <td>lv hypertrophy</td>\n",
       "      <td>108.0</td>\n",
       "      <td>True</td>\n",
       "      <td>1.5</td>\n",
       "      <td>flat</td>\n",
       "      <td>3.0</td>\n",
       "      <td>normal</td>\n",
       "      <td>2</td>\n",
       "    </tr>\n",
       "    <tr>\n",
       "      <th>2</th>\n",
       "      <td>3</td>\n",
       "      <td>67</td>\n",
       "      <td>Male</td>\n",
       "      <td>Cleveland</td>\n",
       "      <td>asymptomatic</td>\n",
       "      <td>120.0</td>\n",
       "      <td>229.0</td>\n",
       "      <td>False</td>\n",
       "      <td>lv hypertrophy</td>\n",
       "      <td>129.0</td>\n",
       "      <td>True</td>\n",
       "      <td>2.6</td>\n",
       "      <td>flat</td>\n",
       "      <td>2.0</td>\n",
       "      <td>reversable defect</td>\n",
       "      <td>1</td>\n",
       "    </tr>\n",
       "    <tr>\n",
       "      <th>3</th>\n",
       "      <td>4</td>\n",
       "      <td>37</td>\n",
       "      <td>Male</td>\n",
       "      <td>Cleveland</td>\n",
       "      <td>non-anginal</td>\n",
       "      <td>130.0</td>\n",
       "      <td>250.0</td>\n",
       "      <td>False</td>\n",
       "      <td>normal</td>\n",
       "      <td>187.0</td>\n",
       "      <td>False</td>\n",
       "      <td>3.5</td>\n",
       "      <td>downsloping</td>\n",
       "      <td>0.0</td>\n",
       "      <td>normal</td>\n",
       "      <td>0</td>\n",
       "    </tr>\n",
       "    <tr>\n",
       "      <th>4</th>\n",
       "      <td>5</td>\n",
       "      <td>41</td>\n",
       "      <td>Female</td>\n",
       "      <td>Cleveland</td>\n",
       "      <td>atypical angina</td>\n",
       "      <td>130.0</td>\n",
       "      <td>204.0</td>\n",
       "      <td>False</td>\n",
       "      <td>lv hypertrophy</td>\n",
       "      <td>172.0</td>\n",
       "      <td>False</td>\n",
       "      <td>1.4</td>\n",
       "      <td>upsloping</td>\n",
       "      <td>0.0</td>\n",
       "      <td>normal</td>\n",
       "      <td>0</td>\n",
       "    </tr>\n",
       "  </tbody>\n",
       "</table>\n",
       "</div>"
      ],
      "text/plain": [
       "   id  age     sex    dataset               cp  trestbps   chol    fbs  \\\n",
       "0   1   63    Male  Cleveland   typical angina     145.0  233.0   True   \n",
       "1   2   67    Male  Cleveland     asymptomatic     160.0  286.0  False   \n",
       "2   3   67    Male  Cleveland     asymptomatic     120.0  229.0  False   \n",
       "3   4   37    Male  Cleveland      non-anginal     130.0  250.0  False   \n",
       "4   5   41  Female  Cleveland  atypical angina     130.0  204.0  False   \n",
       "\n",
       "          restecg  thalch  exang  oldpeak        slope   ca  \\\n",
       "0  lv hypertrophy   150.0  False      2.3  downsloping  0.0   \n",
       "1  lv hypertrophy   108.0   True      1.5         flat  3.0   \n",
       "2  lv hypertrophy   129.0   True      2.6         flat  2.0   \n",
       "3          normal   187.0  False      3.5  downsloping  0.0   \n",
       "4  lv hypertrophy   172.0  False      1.4    upsloping  0.0   \n",
       "\n",
       "                thal  num  \n",
       "0       fixed defect    0  \n",
       "1             normal    2  \n",
       "2  reversable defect    1  \n",
       "3             normal    0  \n",
       "4             normal    0  "
      ]
     },
     "execution_count": 136,
     "metadata": {},
     "output_type": "execute_result"
    }
   ],
   "source": [
    "df.head()"
   ]
  },
  {
   "cell_type": "code",
   "execution_count": 137,
   "metadata": {
    "ExecuteTime": {
     "end_time": "2020-11-27T13:48:32.374891Z",
     "start_time": "2020-11-27T13:48:32.368482Z"
    },
    "hidden": true
   },
   "outputs": [
    {
     "name": "stdout",
     "output_type": "stream",
     "text": [
      "Shape of the data : (920, 16)\n"
     ]
    }
   ],
   "source": [
    "print(f\"Shape of the data : {df.shape}\")"
   ]
  },
  {
   "cell_type": "markdown",
   "metadata": {
    "hidden": true
   },
   "source": [
    "<b> Checking the data type of variables </B>"
   ]
  },
  {
   "cell_type": "code",
   "execution_count": 138,
   "metadata": {
    "hidden": true
   },
   "outputs": [
    {
     "data": {
      "text/plain": [
       "id            int64\n",
       "age           int64\n",
       "sex          object\n",
       "dataset      object\n",
       "cp           object\n",
       "trestbps    float64\n",
       "chol        float64\n",
       "fbs          object\n",
       "restecg      object\n",
       "thalch      float64\n",
       "exang        object\n",
       "oldpeak     float64\n",
       "slope        object\n",
       "ca          float64\n",
       "thal         object\n",
       "num           int64\n",
       "dtype: object"
      ]
     },
     "execution_count": 138,
     "metadata": {},
     "output_type": "execute_result"
    }
   ],
   "source": [
    "df.dtypes"
   ]
  },
  {
   "cell_type": "markdown",
   "metadata": {
    "hidden": true
   },
   "source": [
    "<b>Descriptive Statistics of the continuous and integer categorical variables in data</b>"
   ]
  },
  {
   "cell_type": "code",
   "execution_count": 139,
   "metadata": {
    "hidden": true,
    "scrolled": true
   },
   "outputs": [
    {
     "data": {
      "text/html": [
       "<div>\n",
       "<style scoped>\n",
       "    .dataframe tbody tr th:only-of-type {\n",
       "        vertical-align: middle;\n",
       "    }\n",
       "\n",
       "    .dataframe tbody tr th {\n",
       "        vertical-align: top;\n",
       "    }\n",
       "\n",
       "    .dataframe thead th {\n",
       "        text-align: right;\n",
       "    }\n",
       "</style>\n",
       "<table border=\"1\" class=\"dataframe\">\n",
       "  <thead>\n",
       "    <tr style=\"text-align: right;\">\n",
       "      <th></th>\n",
       "      <th>id</th>\n",
       "      <th>age</th>\n",
       "      <th>trestbps</th>\n",
       "      <th>chol</th>\n",
       "      <th>thalch</th>\n",
       "      <th>oldpeak</th>\n",
       "      <th>ca</th>\n",
       "      <th>num</th>\n",
       "    </tr>\n",
       "  </thead>\n",
       "  <tbody>\n",
       "    <tr>\n",
       "      <th>count</th>\n",
       "      <td>920.000000</td>\n",
       "      <td>920.000000</td>\n",
       "      <td>861.000000</td>\n",
       "      <td>890.000000</td>\n",
       "      <td>865.000000</td>\n",
       "      <td>858.000000</td>\n",
       "      <td>309.000000</td>\n",
       "      <td>920.000000</td>\n",
       "    </tr>\n",
       "    <tr>\n",
       "      <th>mean</th>\n",
       "      <td>460.500000</td>\n",
       "      <td>53.510870</td>\n",
       "      <td>132.132404</td>\n",
       "      <td>199.130337</td>\n",
       "      <td>137.545665</td>\n",
       "      <td>0.878788</td>\n",
       "      <td>0.676375</td>\n",
       "      <td>0.995652</td>\n",
       "    </tr>\n",
       "    <tr>\n",
       "      <th>std</th>\n",
       "      <td>265.725422</td>\n",
       "      <td>9.424685</td>\n",
       "      <td>19.066070</td>\n",
       "      <td>110.780810</td>\n",
       "      <td>25.926276</td>\n",
       "      <td>1.091226</td>\n",
       "      <td>0.935653</td>\n",
       "      <td>1.142693</td>\n",
       "    </tr>\n",
       "    <tr>\n",
       "      <th>min</th>\n",
       "      <td>1.000000</td>\n",
       "      <td>28.000000</td>\n",
       "      <td>0.000000</td>\n",
       "      <td>0.000000</td>\n",
       "      <td>60.000000</td>\n",
       "      <td>-2.600000</td>\n",
       "      <td>0.000000</td>\n",
       "      <td>0.000000</td>\n",
       "    </tr>\n",
       "    <tr>\n",
       "      <th>25%</th>\n",
       "      <td>230.750000</td>\n",
       "      <td>47.000000</td>\n",
       "      <td>120.000000</td>\n",
       "      <td>175.000000</td>\n",
       "      <td>120.000000</td>\n",
       "      <td>0.000000</td>\n",
       "      <td>0.000000</td>\n",
       "      <td>0.000000</td>\n",
       "    </tr>\n",
       "    <tr>\n",
       "      <th>50%</th>\n",
       "      <td>460.500000</td>\n",
       "      <td>54.000000</td>\n",
       "      <td>130.000000</td>\n",
       "      <td>223.000000</td>\n",
       "      <td>140.000000</td>\n",
       "      <td>0.500000</td>\n",
       "      <td>0.000000</td>\n",
       "      <td>1.000000</td>\n",
       "    </tr>\n",
       "    <tr>\n",
       "      <th>75%</th>\n",
       "      <td>690.250000</td>\n",
       "      <td>60.000000</td>\n",
       "      <td>140.000000</td>\n",
       "      <td>268.000000</td>\n",
       "      <td>157.000000</td>\n",
       "      <td>1.500000</td>\n",
       "      <td>1.000000</td>\n",
       "      <td>2.000000</td>\n",
       "    </tr>\n",
       "    <tr>\n",
       "      <th>max</th>\n",
       "      <td>920.000000</td>\n",
       "      <td>77.000000</td>\n",
       "      <td>200.000000</td>\n",
       "      <td>603.000000</td>\n",
       "      <td>202.000000</td>\n",
       "      <td>6.200000</td>\n",
       "      <td>3.000000</td>\n",
       "      <td>4.000000</td>\n",
       "    </tr>\n",
       "  </tbody>\n",
       "</table>\n",
       "</div>"
      ],
      "text/plain": [
       "               id         age    trestbps        chol      thalch     oldpeak  \\\n",
       "count  920.000000  920.000000  861.000000  890.000000  865.000000  858.000000   \n",
       "mean   460.500000   53.510870  132.132404  199.130337  137.545665    0.878788   \n",
       "std    265.725422    9.424685   19.066070  110.780810   25.926276    1.091226   \n",
       "min      1.000000   28.000000    0.000000    0.000000   60.000000   -2.600000   \n",
       "25%    230.750000   47.000000  120.000000  175.000000  120.000000    0.000000   \n",
       "50%    460.500000   54.000000  130.000000  223.000000  140.000000    0.500000   \n",
       "75%    690.250000   60.000000  140.000000  268.000000  157.000000    1.500000   \n",
       "max    920.000000   77.000000  200.000000  603.000000  202.000000    6.200000   \n",
       "\n",
       "               ca         num  \n",
       "count  309.000000  920.000000  \n",
       "mean     0.676375    0.995652  \n",
       "std      0.935653    1.142693  \n",
       "min      0.000000    0.000000  \n",
       "25%      0.000000    0.000000  \n",
       "50%      0.000000    1.000000  \n",
       "75%      1.000000    2.000000  \n",
       "max      3.000000    4.000000  "
      ]
     },
     "execution_count": 139,
     "metadata": {},
     "output_type": "execute_result"
    }
   ],
   "source": [
    "df.describe()"
   ]
  },
  {
   "cell_type": "markdown",
   "metadata": {
    "hidden": true
   },
   "source": [
    "<b> Missing Value Check and Treatment</b>"
   ]
  },
  {
   "cell_type": "markdown",
   "metadata": {
    "hidden": true
   },
   "source": [
    "Checking for null values in the dataset.So here we wil handle all the missing values in following ways :\n",
    "1. If we found any missing record in the patient record then we can remove the patient record\n",
    "2. If null values are more than 30% the feature column can be removed\n",
    "3. Columns with less then 30% missing values, we can replace missing values with the mean , mode and median depending on the type of data distribution (skewed or normal)"
   ]
  },
  {
   "cell_type": "code",
   "execution_count": 140,
   "metadata": {
    "hidden": true,
    "scrolled": true
   },
   "outputs": [
    {
     "data": {
      "text/plain": [
       "id           0.000000\n",
       "age          0.000000\n",
       "sex          0.000000\n",
       "dataset      0.000000\n",
       "cp           0.000000\n",
       "trestbps     6.413043\n",
       "chol         3.260870\n",
       "fbs          9.782609\n",
       "restecg      0.217391\n",
       "thalch       5.978261\n",
       "exang        5.978261\n",
       "oldpeak      6.739130\n",
       "slope       33.586957\n",
       "ca          66.413043\n",
       "thal        52.826087\n",
       "num          0.000000\n",
       "dtype: float64"
      ]
     },
     "execution_count": 140,
     "metadata": {},
     "output_type": "execute_result"
    }
   ],
   "source": [
    "df.isna().sum()*100/df.shape[0]"
   ]
  },
  {
   "cell_type": "markdown",
   "metadata": {
    "hidden": true
   },
   "source": [
    "As we see in above table , in 3 features more then 30% of the data is null so either we can remove the feature or the  entire patient record with null values but as we know from domain experts these features are major contributor in determining the heart disease: \n",
    "1. ca is the number of major vessels (0-3) colored by flourosopy\n",
    "2. thal-Thalassemia- A blood disorder involving lower-than-normal amounts of an oxygen-carrying protein.\n",
    "\n",
    "so these 2 are important features we can not replace the null values , same for slope also ,so we have preferred to remove the patient records with null values in these columns\n"
   ]
  },
  {
   "cell_type": "code",
   "execution_count": 141,
   "metadata": {
    "hidden": true
   },
   "outputs": [],
   "source": [
    "df.dropna(inplace= True )\n",
    "df=df.sample(frac=1)"
   ]
  },
  {
   "cell_type": "markdown",
   "metadata": {
    "hidden": true
   },
   "source": [
    "Catgorical Variable distibution after dropping missing value records "
   ]
  },
  {
   "cell_type": "code",
   "execution_count": 142,
   "metadata": {
    "hidden": true
   },
   "outputs": [
    {
     "data": {
      "text/plain": [
       "False    256\n",
       "True      43\n",
       "Name: fbs, dtype: int64"
      ]
     },
     "execution_count": 142,
     "metadata": {},
     "output_type": "execute_result"
    }
   ],
   "source": [
    "df.fbs.value_counts()"
   ]
  },
  {
   "cell_type": "code",
   "execution_count": 143,
   "metadata": {
    "hidden": true,
    "scrolled": true
   },
   "outputs": [
    {
     "data": {
      "text/plain": [
       "0    160\n",
       "1     56\n",
       "3     35\n",
       "2     35\n",
       "4     13\n",
       "Name: num, dtype: int64"
      ]
     },
     "execution_count": 143,
     "metadata": {},
     "output_type": "execute_result"
    }
   ],
   "source": [
    "df.num.value_counts()"
   ]
  },
  {
   "cell_type": "code",
   "execution_count": 144,
   "metadata": {
    "hidden": true
   },
   "outputs": [
    {
     "data": {
      "text/plain": [
       "False    200\n",
       "True      99\n",
       "Name: exang, dtype: int64"
      ]
     },
     "execution_count": 144,
     "metadata": {},
     "output_type": "execute_result"
    }
   ],
   "source": [
    "df.exang.value_counts()"
   ]
  },
  {
   "cell_type": "code",
   "execution_count": 145,
   "metadata": {
    "hidden": true
   },
   "outputs": [
    {
     "data": {
      "text/plain": [
       "Male      203\n",
       "Female     96\n",
       "Name: sex, dtype: int64"
      ]
     },
     "execution_count": 145,
     "metadata": {},
     "output_type": "execute_result"
    }
   ],
   "source": [
    "df.sex.value_counts()"
   ]
  },
  {
   "cell_type": "code",
   "execution_count": 146,
   "metadata": {
    "hidden": true
   },
   "outputs": [
    {
     "data": {
      "text/plain": [
       "asymptomatic       144\n",
       "non-anginal         83\n",
       "atypical angina     49\n",
       "typical angina      23\n",
       "Name: cp, dtype: int64"
      ]
     },
     "execution_count": 146,
     "metadata": {},
     "output_type": "execute_result"
    }
   ],
   "source": [
    "df.cp.value_counts()"
   ]
  },
  {
   "cell_type": "code",
   "execution_count": 147,
   "metadata": {
    "hidden": true
   },
   "outputs": [
    {
     "data": {
      "text/plain": [
       "0.0    176\n",
       "1.0     65\n",
       "2.0     38\n",
       "3.0     20\n",
       "Name: ca, dtype: int64"
      ]
     },
     "execution_count": 147,
     "metadata": {},
     "output_type": "execute_result"
    }
   ],
   "source": [
    "df.ca.value_counts()"
   ]
  },
  {
   "cell_type": "code",
   "execution_count": 148,
   "metadata": {},
   "outputs": [
    {
     "data": {
      "text/plain": [
       "Index(['id', 'age', 'sex', 'dataset', 'cp', 'trestbps', 'chol', 'fbs',\n",
       "       'restecg', 'thalch', 'exang', 'oldpeak', 'slope', 'ca', 'thal', 'num'],\n",
       "      dtype='object')"
      ]
     },
     "execution_count": 148,
     "metadata": {},
     "output_type": "execute_result"
    }
   ],
   "source": [
    "df.columns"
   ]
  },
  {
   "cell_type": "code",
   "execution_count": 149,
   "metadata": {
    "scrolled": false
   },
   "outputs": [
    {
     "data": {
      "image/png": "iVBORw0KGgoAAAANSUhEUgAAAWAAAAEGCAYAAABbzE8LAAAAOXRFWHRTb2Z0d2FyZQBNYXRwbG90bGliIHZlcnNpb24zLjMuMywgaHR0cHM6Ly9tYXRwbG90bGliLm9yZy/Il7ecAAAACXBIWXMAAAsTAAALEwEAmpwYAAAKFklEQVR4nO3dX4yld13H8c+3OyFsq1CWIZtmKlmaUaoXUmCDbTCiiFoMITEao1FDCAkxkWG9IETulESjV7oZI0klGm9QAVM0hLAQQBNJBLZQtNBWDli1E9suLBRkSwnl58V5Jm42XbbbnXO+s3Ner2Qy59/M8/vu7LzznGfmPFNjjACwfNd0LwBgVQkwQBMBBmgiwABNBBigydrlPHh9fX0cO3ZsQUsBOHjW19dz6tSpU2OM2y+877ICfOzYsZw+fXrvVgawAqpq/cludwgCoIkAAzQRYIAmAgzQRIABmggwQBMBBmgiwABNBBigiQADNBFggCYCDNBEgAGaCDBAEwEGaCLAAE0EGKCJAAM0EWCAJpf1N+HgyWxvb2c2m3UvY0/s7OwkSTY2NtrWsLm5ma2trbbtszwCzBWbzWa5+55788S1R7qXcsUOnXs0SfLQ4z3fGofOnW3ZLj0EmD3xxLVH8tjNP9+9jCt2+L4PJEnbLLvbZzU4BgzQRIABmggwQBMBBmgiwABNBBigiQADNBFggCYCDNBEgAGaCDBAEwEGaCLAAE0EGKCJAAM0EWCAJgIM0ESAAZoIMEATAQZoIsAATQQYoIkAAzQRYIAmAgzQRIABmggwQBMBBmgiwABNBBigiQADNBFggCYCDNBEgAGaCDBAEwEGaCLAAE0EGKCJAAM0EWCAJgIM0GQpAd7e3s729vYyNgWwpxbZr7WFfNYLzGazZWwGYM8tsl8OQQA0EWCAJgIM0ESAAZoIMEATAQZoIsAATQQYoIkAAzQRYIAmAgzQRIABmggwQBMBBmgiwABNBBigiQADNBFggCYCDNBEgAGaCDBAEwEGaCLAAE0EGKCJAAM0EWCAJgIM0ESAAZoIMEATAQZoIsAATQQYoIkAAzQRYIAmAgzQRIABmggwQBMBBmgiwABNBBigiQADNFlbxkZ2dnby2GOP5cSJE8vYHEs2m81yzbdH9zIOhGu+9fXMZt/wvbKPzGazHD58eCGf+5J7wFX1xqo6XVWnz5w5s5BFAKyiS+4BjzHuSHJHkhw/fvxp7eZsbGwkSU6ePPl0Ppx97sSJE7nrSw93L+NA+O4zn5XNm476XtlHFvlsxDFggCYCDNBEgAGaCDBAEwEGaCLAAE0EGKCJAAM0EWCAJgIM0ESAAZoIMEATAQZoIsAATQQYoIkAAzQRYIAmAgzQRIABmggwQBMBBmgiwABNBBigiQADNBFggCYCDNBEgAGaCDBAEwEGaCLAAE0EGKCJAAM0EWCAJgIM0ESAAZoIMEATAQZoIsAATQQYoIkAAzQRYIAmAgzQZG0ZG9nc3FzGZgD23CL7tZQAb21tLWMzAHtukf1yCAKgiQADNBFggCYCDNBEgAGaCDBAEwEGaCLAAE0EGKCJAAM0EWCAJgIM0ESAAZoIMEATAQZoIsAATQQYoIkAAzQRYIAmAgzQRIABmggwQBMBBmgiwABNBBigiQADNBFggCYCDNBEgAGaCDBAEwEGaCLAAE0EGKCJAAM0EWCAJgIM0ESAAZoIMEATAQZoIsAATda6F8DBcOjc2Ry+7wPdy7hih859JUnaZjl07mySoy3bZvkEmCu2ubnZvYQ9s7PznSTJxkZXBI8eqH9PvjcB5optbW11LwGuSo4BAzQRYIAmAgzQRIABmggwQBMBBmgiwABNBBigiQADNBFggCYCDNBEgAGaCDBAEwEGaCLAAE0EGKCJAAM0EWCAJgIM0ESAAZrUGOOpP7jqTJL/3OM1rCf58h5/zqvJKs9v9tW1SvN/OUnGGLdfeMdlBXgRqur0GON46yIarfL8Zl/N2RPz73IIAqCJAAM02Q8BvqN7Ac1WeX6zr65Vnz/JPjgGDLCq9sMeMMBKEmCAJksNcFU9s6o+WVWfrarPVdXvTbe/oKo+UVWzqvrbqnrGMte1TFV1qKo+U1Xvn66v0uwPVNW/VdXdVXV6uu1IVX24qr4wvX9O9zoXoaqur6r3VtV9VXVvVd22CrNX1Qunr/fu29er6rdXYfanYtl7wI8neeUY40VJbklye1XdmuSPkvzxGGMzyVeTvGHJ61qmE0nuPe/6Ks2eJD81xrjlvN8B/Z0kHxlj/GCSj0zXD6KTST44xrg5yYsy/z9w4GcfY9w/fb1vSfLSJOeS3JkVmP0pGWO0vCW5Nsmnk/xY5q8UWZtuvy3Jqa51LXjmGzP/z/bKJO9PUqsy+zTfA0nWL7jt/iQ3TJdvSHJ/9zoXMPezk/xHph96r9LsF8z7s0k+voqzX+xt6ceAp6fgdyd5JMmHk3wxydfGGN+ZHvJgko1lr2tJ/iTJW5N8d7r+3KzO7Ekyknyoqu6qqjdOtx0dY/zPdPmhJEd7lrZQL0hyJslfToef3llV12U1Zj/fryT56+nyqs3+pJYe4DHGE2P+dOTGJC9LcvOy19Chql6T5JExxl3da2n042OMlyR5dZLfqqqfOP/OMd8dOoi/F7mW5CVJ3jHGeHGSb+aCp9wHePYkyfSzjdcmec+F9x302b+Xtt+CGGN8LcnHMn/afX1VrU133Zhkp2tdC/TyJK+tqgeS/E3mhyFOZjVmT5KMMXam949kfhzwZUkerqobkmR6/0jfChfmwSQPjjE+MV1/b+ZBXoXZd706yafHGA9P11dp9ota9m9BPK+qrp8uH07yM5n/MOJjSX5petjrkvz9Mte1DGOMt40xbhxjHMv8qdhHxxi/lhWYPUmq6rqq+v7dy5kfD7wnyT9kPndyQOcfYzyU5L+r6oXTTT+d5PNZgdnP86v5/8MPyWrNflFLfSVcVf1okr9Kcijz+L97jPH2qrop873CI0k+k+TXxxiPL21hS1ZVP5nkLWOM16zK7NOcd05X15K8a4zx+1X13CTvTvL8zE91+stjjLNNy1yYqrolyTuTPCPJl5K8PtP3QA7+7Ncl+a8kN40xHp1uW4mv+6V4KTJAE6+EA2giwABNBBigiQADNBFggCYCDNBEgAGaCDBXhap633QSn8/tnsinqt5QVf8+nWP6z6vqT6fbn1dVf1dVn5reXt67enhyXojBVaGqjowxzk4vYf9Ukp9L8vHMz6nwjSQfTfLZMcabqupdSf5sjPHPVfX8zE/x+cNti4eLWLv0Q2BfeHNV/cJ0+QeS/EaSf9p9+WpVvSfJD033vyrJj1TV7sc+q6q+b4zxv8tcMFyKALPvTefOeFWS28YY56rqH5Pcl+Rie7XXJLl1jPGtpSwQnibHgLkaPDvJV6f43pzk1iTXJXlFVT1nOp3nL573+A8l2dq9Mp0IB/YdAeZq8MEka1V1b5I/TPIvmZ83+Q+SfDLzY8EPJHl0evybkxyvqn+tqs8n+c2lrxieAj+E46q1e1x32gO+M8lfjDHuvNTHwX5hD5ir2e9Of1/wnsz/6OX7WlcDl8keMEATe8AATQQYoIkAAzQRYIAmAgzQ5P8AatneF6WAWusAAAAASUVORK5CYII=\n",
      "text/plain": [
       "<Figure size 432x288 with 1 Axes>"
      ]
     },
     "metadata": {
      "needs_background": "light"
     },
     "output_type": "display_data"
    },
    {
     "data": {
      "image/png": "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\n",
      "text/plain": [
       "<Figure size 432x288 with 1 Axes>"
      ]
     },
     "metadata": {
      "needs_background": "light"
     },
     "output_type": "display_data"
    },
    {
     "data": {
      "image/png": "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\n",
      "text/plain": [
       "<Figure size 432x288 with 1 Axes>"
      ]
     },
     "metadata": {
      "needs_background": "light"
     },
     "output_type": "display_data"
    },
    {
     "data": {
      "image/png": "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\n",
      "text/plain": [
       "<Figure size 432x288 with 1 Axes>"
      ]
     },
     "metadata": {
      "needs_background": "light"
     },
     "output_type": "display_data"
    },
    {
     "data": {
      "image/png": "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\n",
      "text/plain": [
       "<Figure size 432x288 with 1 Axes>"
      ]
     },
     "metadata": {
      "needs_background": "light"
     },
     "output_type": "display_data"
    }
   ],
   "source": [
    "features=['age','trestbps','chol','thalch','oldpeak']\n",
    "for i in features:\n",
    "    figure = plt.figure()\n",
    "    ax = sns.boxplot(x=i, data=df,orient='v')\n",
    "    "
   ]
  },
  {
   "cell_type": "markdown",
   "metadata": {},
   "source": [
    "## Outlier Treatment "
   ]
  },
  {
   "cell_type": "markdown",
   "metadata": {},
   "source": [
    "Here we are capping the Data point that falls outside of 1.5 times of an Interquartile range above the 3rd quartile (Q3) and below the 1st quartile (Q1)"
   ]
  },
  {
   "cell_type": "code",
   "execution_count": 150,
   "metadata": {},
   "outputs": [
    {
     "data": {
      "text/plain": [
       "Index(['id', 'age', 'sex', 'dataset', 'cp', 'trestbps', 'chol', 'fbs',\n",
       "       'restecg', 'thalch', 'exang', 'oldpeak', 'slope', 'ca', 'thal', 'num'],\n",
       "      dtype='object')"
      ]
     },
     "execution_count": 150,
     "metadata": {},
     "output_type": "execute_result"
    }
   ],
   "source": [
    "df.columns"
   ]
  },
  {
   "cell_type": "code",
   "execution_count": 151,
   "metadata": {},
   "outputs": [],
   "source": [
    "def outlier_capping(val,q1,q3,outlier_step):\n",
    "    if val<q1-outlier_step:return q1\n",
    "    elif val>q3+outlier_step:return q3\n",
    "    else :return val"
   ]
  },
  {
   "cell_type": "code",
   "execution_count": 152,
   "metadata": {},
   "outputs": [
    {
     "name": "stdout",
     "output_type": "stream",
     "text": [
      "trestbps\n",
      "chol\n",
      "oldpeak\n"
     ]
    }
   ],
   "source": [
    "for i in ['age','trestbps','chol','thalch','oldpeak']:\n",
    "    # lower  quartile (25%)\n",
    "    Q1 = np.percentile(df[i], 25)\n",
    "    # Upper quartile (75%)\n",
    "    Q3 = np.percentile(df[i],75)\n",
    "    # The Interquartile rrange is upper -lower \n",
    "    IQR = Q3 - Q1\n",
    "\n",
    "    outlier_step = 1.5 * IQR\n",
    "\n",
    "    # finding a list of indices of outliers for col\n",
    "\n",
    "    outlier_list_col = df[(df[i] < Q1 - outlier_step) | (df[i] > Q3 + outlier_step )].index\n",
    "    \n",
    "    if len(outlier_list_col)>2:\n",
    "        print(i)\n",
    "        df[i] = df[i].apply(lambda x: outlier_capping(x,Q1,Q3,outlier_step))\n",
    "        \n",
    "        if len(df[(df[i] < Q1 - outlier_step) | (df[i] > Q3 + outlier_step )].index)>0:\n",
    "            print(\"function didn't work pls check :P\")\n",
    "    \n"
   ]
  },
  {
   "cell_type": "markdown",
   "metadata": {},
   "source": [
    "Here we are capping the Data point that falls outside of 1.5 times of an Interquartile range above the 3rd quartile (Q3) and below the 1st quartile (Q1)"
   ]
  },
  {
   "cell_type": "markdown",
   "metadata": {
    "hidden": true
   },
   "source": [
    "<b> Univariate Data Analysis </b>"
   ]
  },
  {
   "cell_type": "markdown",
   "metadata": {
    "hidden": true
   },
   "source": [
    "<b>For continuous variables and categorical variables with integer values :</b><br>\n",
    "\n",
    "<i> Inferences from below distributions : </i>\n",
    "\n",
    "1. Age: It is slighlt left skewed, which results in less number of data points with age <40\n",
    "2. chol: It is right skewed, hence less number of patients have cholestral level >300\n",
    "3. Id  : It is not a useful feature for us it will be dropped later, as it is an proxy for patient ID\n",
    "4. trestbps : It is right skewed, less number of people have BP >150 measured while resting. Because high BP while resting can cause heart stroke and brain stroke\n",
    "5. oldpeak: It is right skewed. Less patients are belongs to higher categories of ST depression\n",
    "6. thalch: It is left skewed. very few patients have low BP (maximum BP achieved), which shows that most of the patients have reached very high BP levels, which is major driving factor for heart disease\n"
   ]
  },
  {
   "cell_type": "code",
   "execution_count": 153,
   "metadata": {
    "hidden": true,
    "scrolled": false
   },
   "outputs": [
    {
     "data": {
      "text/plain": [
       "array([[<AxesSubplot:title={'center':'id'}>,\n",
       "        <AxesSubplot:title={'center':'age'}>,\n",
       "        <AxesSubplot:title={'center':'trestbps'}>],\n",
       "       [<AxesSubplot:title={'center':'chol'}>,\n",
       "        <AxesSubplot:title={'center':'thalch'}>,\n",
       "        <AxesSubplot:title={'center':'oldpeak'}>],\n",
       "       [<AxesSubplot:title={'center':'ca'}>,\n",
       "        <AxesSubplot:title={'center':'num'}>, <AxesSubplot:>]],\n",
       "      dtype=object)"
      ]
     },
     "execution_count": 153,
     "metadata": {},
     "output_type": "execute_result"
    },
    {
     "data": {
      "image/png": "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\n",
      "text/plain": [
       "<Figure size 720x720 with 9 Axes>"
      ]
     },
     "metadata": {
      "needs_background": "light"
     },
     "output_type": "display_data"
    }
   ],
   "source": [
    "df.hist(figsize=(10,10))"
   ]
  },
  {
   "cell_type": "markdown",
   "metadata": {
    "hidden": true
   },
   "source": [
    "<b> For Categorical variable distributions w.r.t target label :</b>\n",
    "\n",
    "<i> Inferences and Insights </i><br>\n",
    "1. So from the above plot we can see that our data comrise of mostly middle age and old age people"
   ]
  },
  {
   "cell_type": "code",
   "execution_count": 154,
   "metadata": {
    "hidden": true
   },
   "outputs": [
    {
     "data": {
      "image/png": "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\n",
      "text/plain": [
       "<Figure size 720x720 with 2 Axes>"
      ]
     },
     "metadata": {
      "needs_background": "light"
     },
     "output_type": "display_data"
    },
    {
     "data": {
      "image/png": "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\n",
      "text/plain": [
       "<Figure size 720x720 with 1 Axes>"
      ]
     },
     "metadata": {
      "needs_background": "light"
     },
     "output_type": "display_data"
    }
   ],
   "source": [
    "plt.figure(figsize=(10,10))\n",
    "\n",
    "plt.subplot(3,1,1)\n",
    "plt.bar(\"index\",\"ca\",data=pd.DataFrame(df[df['num']==0].ca.value_counts()).reset_index(),alpha=0.5)\n",
    "plt.bar(\"index\",\"ca\",data=pd.DataFrame(df[df['num']>0].ca.value_counts()).reset_index())\n",
    "plt.legend(['0','>0'])  \n",
    "\n",
    "young_age=df[(df.age>=29)&(df.age<40)]\n",
    "middle_age=df[(df.age>=40)&(df.age<55)]\n",
    "old_age=df[(df.age>55)]\n",
    "plt.subplot(3,1,2)\n",
    "sns.barplot(x=['Young Age','Middle Age','Old Age'],y=[len(young_age),len(middle_age),len(old_age)])\n",
    "plt.xlabel('Age Range')\n",
    "plt.ylabel('Counts')\n",
    "plt.title('AGE Plot')\n",
    "plt.show() \n",
    "\n",
    "plt.figure(figsize=(10,10))\n",
    "plt.subplot(3,1,3)\n",
    "sns.countplot(df.sex,hue=df.slope)\n",
    "plt.title('Sex and Slope rate Show')\n",
    "plt.show()"
   ]
  },
  {
   "cell_type": "markdown",
   "metadata": {
    "hidden": true
   },
   "source": [
    "<b> Correlation Analysis </b>"
   ]
  },
  {
   "cell_type": "markdown",
   "metadata": {
    "hidden": true
   },
   "source": [
    "Heat Map - graphical representation of correlation among the features using a heat map, which uses colours to show how strongly two features are correlated"
   ]
  },
  {
   "cell_type": "code",
   "execution_count": 155,
   "metadata": {
    "hidden": true,
    "scrolled": false
   },
   "outputs": [
    {
     "data": {
      "image/png": "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\n",
      "text/plain": [
       "<Figure size 720x720 with 2 Axes>"
      ]
     },
     "metadata": {
      "needs_background": "light"
     },
     "output_type": "display_data"
    }
   ],
   "source": [
    "plt.figure(figsize=(10,10))\n",
    "sns.heatmap(df.corr(), annot=True, fmt='.1f')\n",
    "plt.show()"
   ]
  },
  {
   "cell_type": "markdown",
   "metadata": {
    "heading_collapsed": true
   },
   "source": [
    "## Data Preprocessing"
   ]
  },
  {
   "cell_type": "code",
   "execution_count": 156,
   "metadata": {
    "hidden": true
   },
   "outputs": [
    {
     "data": {
      "text/plain": [
       "Index(['id', 'age', 'sex', 'dataset', 'cp', 'trestbps', 'chol', 'fbs',\n",
       "       'restecg', 'thalch', 'exang', 'oldpeak', 'slope', 'ca', 'thal', 'num'],\n",
       "      dtype='object')"
      ]
     },
     "execution_count": 156,
     "metadata": {},
     "output_type": "execute_result"
    }
   ],
   "source": [
    "df.columns"
   ]
  },
  {
   "cell_type": "code",
   "execution_count": 157,
   "metadata": {
    "hidden": true,
    "scrolled": true
   },
   "outputs": [],
   "source": [
    "df=df.drop(['dataset'],axis=1)"
   ]
  },
  {
   "cell_type": "markdown",
   "metadata": {
    "hidden": true
   },
   "source": [
    "<b> Data Transformations :</b><br><br>\n",
    "\n",
    "<b>Note : </b>Target feature i.e. num is categorise in 5 categories .But for identifying simply the presence of disease, we are going to convert the feature num in 0/1 to make it binary classification\n",
    "\n",
    "Sklearn requires all inputs to be numeric, we should convert all our categorical variables\n",
    "into numeric by encoding the categories. Before that we will fill all the missing values in the\n",
    "dataset\n"
   ]
  },
  {
   "cell_type": "code",
   "execution_count": 158,
   "metadata": {
    "hidden": true
   },
   "outputs": [],
   "source": [
    "df['target']=(df['num']>0)*1\n",
    "df['exang']=(df['exang'])*1\n",
    "df['fbs']=(df['fbs'])*1\n",
    "df['sex']=(df['sex']== 'Male')*1"
   ]
  },
  {
   "cell_type": "code",
   "execution_count": 159,
   "metadata": {
    "hidden": true
   },
   "outputs": [],
   "source": [
    "df.drop(['num','id'],axis=1, inplace=True)"
   ]
  },
  {
   "cell_type": "code",
   "execution_count": 160,
   "metadata": {
    "hidden": true
   },
   "outputs": [
    {
     "data": {
      "text/html": [
       "<div>\n",
       "<style scoped>\n",
       "    .dataframe tbody tr th:only-of-type {\n",
       "        vertical-align: middle;\n",
       "    }\n",
       "\n",
       "    .dataframe tbody tr th {\n",
       "        vertical-align: top;\n",
       "    }\n",
       "\n",
       "    .dataframe thead th {\n",
       "        text-align: right;\n",
       "    }\n",
       "</style>\n",
       "<table border=\"1\" class=\"dataframe\">\n",
       "  <thead>\n",
       "    <tr style=\"text-align: right;\">\n",
       "      <th></th>\n",
       "      <th>age</th>\n",
       "      <th>sex</th>\n",
       "      <th>cp</th>\n",
       "      <th>trestbps</th>\n",
       "      <th>chol</th>\n",
       "      <th>fbs</th>\n",
       "      <th>restecg</th>\n",
       "      <th>thalch</th>\n",
       "      <th>exang</th>\n",
       "      <th>oldpeak</th>\n",
       "      <th>slope</th>\n",
       "      <th>ca</th>\n",
       "      <th>thal</th>\n",
       "      <th>target</th>\n",
       "    </tr>\n",
       "  </thead>\n",
       "  <tbody>\n",
       "    <tr>\n",
       "      <th>289</th>\n",
       "      <td>56</td>\n",
       "      <td>1</td>\n",
       "      <td>atypical angina</td>\n",
       "      <td>120.0</td>\n",
       "      <td>240.0</td>\n",
       "      <td>0</td>\n",
       "      <td>normal</td>\n",
       "      <td>169.0</td>\n",
       "      <td>0</td>\n",
       "      <td>0.0</td>\n",
       "      <td>downsloping</td>\n",
       "      <td>0.0</td>\n",
       "      <td>normal</td>\n",
       "      <td>0</td>\n",
       "    </tr>\n",
       "    <tr>\n",
       "      <th>34</th>\n",
       "      <td>44</td>\n",
       "      <td>1</td>\n",
       "      <td>non-anginal</td>\n",
       "      <td>130.0</td>\n",
       "      <td>233.0</td>\n",
       "      <td>0</td>\n",
       "      <td>normal</td>\n",
       "      <td>179.0</td>\n",
       "      <td>1</td>\n",
       "      <td>0.4</td>\n",
       "      <td>upsloping</td>\n",
       "      <td>0.0</td>\n",
       "      <td>normal</td>\n",
       "      <td>0</td>\n",
       "    </tr>\n",
       "    <tr>\n",
       "      <th>159</th>\n",
       "      <td>68</td>\n",
       "      <td>1</td>\n",
       "      <td>non-anginal</td>\n",
       "      <td>118.0</td>\n",
       "      <td>277.0</td>\n",
       "      <td>0</td>\n",
       "      <td>normal</td>\n",
       "      <td>151.0</td>\n",
       "      <td>0</td>\n",
       "      <td>1.0</td>\n",
       "      <td>upsloping</td>\n",
       "      <td>1.0</td>\n",
       "      <td>reversable defect</td>\n",
       "      <td>0</td>\n",
       "    </tr>\n",
       "    <tr>\n",
       "      <th>88</th>\n",
       "      <td>53</td>\n",
       "      <td>0</td>\n",
       "      <td>asymptomatic</td>\n",
       "      <td>138.0</td>\n",
       "      <td>234.0</td>\n",
       "      <td>0</td>\n",
       "      <td>lv hypertrophy</td>\n",
       "      <td>160.0</td>\n",
       "      <td>0</td>\n",
       "      <td>0.0</td>\n",
       "      <td>upsloping</td>\n",
       "      <td>0.0</td>\n",
       "      <td>normal</td>\n",
       "      <td>0</td>\n",
       "    </tr>\n",
       "    <tr>\n",
       "      <th>222</th>\n",
       "      <td>39</td>\n",
       "      <td>0</td>\n",
       "      <td>non-anginal</td>\n",
       "      <td>94.0</td>\n",
       "      <td>199.0</td>\n",
       "      <td>0</td>\n",
       "      <td>normal</td>\n",
       "      <td>179.0</td>\n",
       "      <td>0</td>\n",
       "      <td>0.0</td>\n",
       "      <td>upsloping</td>\n",
       "      <td>0.0</td>\n",
       "      <td>normal</td>\n",
       "      <td>0</td>\n",
       "    </tr>\n",
       "    <tr>\n",
       "      <th>179</th>\n",
       "      <td>53</td>\n",
       "      <td>1</td>\n",
       "      <td>non-anginal</td>\n",
       "      <td>130.0</td>\n",
       "      <td>246.0</td>\n",
       "      <td>1</td>\n",
       "      <td>lv hypertrophy</td>\n",
       "      <td>173.0</td>\n",
       "      <td>0</td>\n",
       "      <td>0.0</td>\n",
       "      <td>upsloping</td>\n",
       "      <td>3.0</td>\n",
       "      <td>normal</td>\n",
       "      <td>0</td>\n",
       "    </tr>\n",
       "    <tr>\n",
       "      <th>261</th>\n",
       "      <td>58</td>\n",
       "      <td>0</td>\n",
       "      <td>atypical angina</td>\n",
       "      <td>136.0</td>\n",
       "      <td>319.0</td>\n",
       "      <td>1</td>\n",
       "      <td>lv hypertrophy</td>\n",
       "      <td>152.0</td>\n",
       "      <td>0</td>\n",
       "      <td>0.0</td>\n",
       "      <td>upsloping</td>\n",
       "      <td>2.0</td>\n",
       "      <td>normal</td>\n",
       "      <td>1</td>\n",
       "    </tr>\n",
       "    <tr>\n",
       "      <th>122</th>\n",
       "      <td>51</td>\n",
       "      <td>1</td>\n",
       "      <td>non-anginal</td>\n",
       "      <td>100.0</td>\n",
       "      <td>222.0</td>\n",
       "      <td>0</td>\n",
       "      <td>normal</td>\n",
       "      <td>143.0</td>\n",
       "      <td>1</td>\n",
       "      <td>1.2</td>\n",
       "      <td>flat</td>\n",
       "      <td>0.0</td>\n",
       "      <td>normal</td>\n",
       "      <td>0</td>\n",
       "    </tr>\n",
       "    <tr>\n",
       "      <th>10</th>\n",
       "      <td>57</td>\n",
       "      <td>1</td>\n",
       "      <td>asymptomatic</td>\n",
       "      <td>140.0</td>\n",
       "      <td>192.0</td>\n",
       "      <td>0</td>\n",
       "      <td>normal</td>\n",
       "      <td>148.0</td>\n",
       "      <td>0</td>\n",
       "      <td>0.4</td>\n",
       "      <td>flat</td>\n",
       "      <td>0.0</td>\n",
       "      <td>fixed defect</td>\n",
       "      <td>0</td>\n",
       "    </tr>\n",
       "    <tr>\n",
       "      <th>204</th>\n",
       "      <td>43</td>\n",
       "      <td>1</td>\n",
       "      <td>asymptomatic</td>\n",
       "      <td>110.0</td>\n",
       "      <td>211.0</td>\n",
       "      <td>0</td>\n",
       "      <td>normal</td>\n",
       "      <td>161.0</td>\n",
       "      <td>0</td>\n",
       "      <td>0.0</td>\n",
       "      <td>upsloping</td>\n",
       "      <td>0.0</td>\n",
       "      <td>reversable defect</td>\n",
       "      <td>0</td>\n",
       "    </tr>\n",
       "    <tr>\n",
       "      <th>220</th>\n",
       "      <td>41</td>\n",
       "      <td>0</td>\n",
       "      <td>non-anginal</td>\n",
       "      <td>112.0</td>\n",
       "      <td>268.0</td>\n",
       "      <td>0</td>\n",
       "      <td>lv hypertrophy</td>\n",
       "      <td>172.0</td>\n",
       "      <td>1</td>\n",
       "      <td>0.0</td>\n",
       "      <td>upsloping</td>\n",
       "      <td>0.0</td>\n",
       "      <td>normal</td>\n",
       "      <td>0</td>\n",
       "    </tr>\n",
       "    <tr>\n",
       "      <th>13</th>\n",
       "      <td>44</td>\n",
       "      <td>1</td>\n",
       "      <td>atypical angina</td>\n",
       "      <td>120.0</td>\n",
       "      <td>263.0</td>\n",
       "      <td>0</td>\n",
       "      <td>normal</td>\n",
       "      <td>173.0</td>\n",
       "      <td>0</td>\n",
       "      <td>0.0</td>\n",
       "      <td>upsloping</td>\n",
       "      <td>0.0</td>\n",
       "      <td>reversable defect</td>\n",
       "      <td>0</td>\n",
       "    </tr>\n",
       "    <tr>\n",
       "      <th>177</th>\n",
       "      <td>56</td>\n",
       "      <td>1</td>\n",
       "      <td>asymptomatic</td>\n",
       "      <td>132.0</td>\n",
       "      <td>184.0</td>\n",
       "      <td>0</td>\n",
       "      <td>lv hypertrophy</td>\n",
       "      <td>105.0</td>\n",
       "      <td>1</td>\n",
       "      <td>2.1</td>\n",
       "      <td>flat</td>\n",
       "      <td>1.0</td>\n",
       "      <td>fixed defect</td>\n",
       "      <td>1</td>\n",
       "    </tr>\n",
       "    <tr>\n",
       "      <th>60</th>\n",
       "      <td>51</td>\n",
       "      <td>0</td>\n",
       "      <td>asymptomatic</td>\n",
       "      <td>130.0</td>\n",
       "      <td>305.0</td>\n",
       "      <td>0</td>\n",
       "      <td>normal</td>\n",
       "      <td>142.0</td>\n",
       "      <td>1</td>\n",
       "      <td>1.2</td>\n",
       "      <td>flat</td>\n",
       "      <td>0.0</td>\n",
       "      <td>reversable defect</td>\n",
       "      <td>1</td>\n",
       "    </tr>\n",
       "    <tr>\n",
       "      <th>189</th>\n",
       "      <td>69</td>\n",
       "      <td>1</td>\n",
       "      <td>non-anginal</td>\n",
       "      <td>140.0</td>\n",
       "      <td>254.0</td>\n",
       "      <td>0</td>\n",
       "      <td>lv hypertrophy</td>\n",
       "      <td>146.0</td>\n",
       "      <td>0</td>\n",
       "      <td>2.0</td>\n",
       "      <td>flat</td>\n",
       "      <td>3.0</td>\n",
       "      <td>reversable defect</td>\n",
       "      <td>1</td>\n",
       "    </tr>\n",
       "    <tr>\n",
       "      <th>235</th>\n",
       "      <td>54</td>\n",
       "      <td>1</td>\n",
       "      <td>asymptomatic</td>\n",
       "      <td>122.0</td>\n",
       "      <td>286.0</td>\n",
       "      <td>0</td>\n",
       "      <td>lv hypertrophy</td>\n",
       "      <td>116.0</td>\n",
       "      <td>1</td>\n",
       "      <td>3.2</td>\n",
       "      <td>flat</td>\n",
       "      <td>2.0</td>\n",
       "      <td>normal</td>\n",
       "      <td>1</td>\n",
       "    </tr>\n",
       "    <tr>\n",
       "      <th>77</th>\n",
       "      <td>51</td>\n",
       "      <td>0</td>\n",
       "      <td>non-anginal</td>\n",
       "      <td>140.0</td>\n",
       "      <td>308.0</td>\n",
       "      <td>0</td>\n",
       "      <td>lv hypertrophy</td>\n",
       "      <td>142.0</td>\n",
       "      <td>0</td>\n",
       "      <td>1.5</td>\n",
       "      <td>upsloping</td>\n",
       "      <td>1.0</td>\n",
       "      <td>normal</td>\n",
       "      <td>0</td>\n",
       "    </tr>\n",
       "    <tr>\n",
       "      <th>134</th>\n",
       "      <td>43</td>\n",
       "      <td>0</td>\n",
       "      <td>non-anginal</td>\n",
       "      <td>122.0</td>\n",
       "      <td>213.0</td>\n",
       "      <td>0</td>\n",
       "      <td>normal</td>\n",
       "      <td>165.0</td>\n",
       "      <td>0</td>\n",
       "      <td>0.2</td>\n",
       "      <td>flat</td>\n",
       "      <td>0.0</td>\n",
       "      <td>normal</td>\n",
       "      <td>0</td>\n",
       "    </tr>\n",
       "    <tr>\n",
       "      <th>187</th>\n",
       "      <td>66</td>\n",
       "      <td>1</td>\n",
       "      <td>atypical angina</td>\n",
       "      <td>160.0</td>\n",
       "      <td>246.0</td>\n",
       "      <td>0</td>\n",
       "      <td>normal</td>\n",
       "      <td>120.0</td>\n",
       "      <td>1</td>\n",
       "      <td>0.0</td>\n",
       "      <td>flat</td>\n",
       "      <td>3.0</td>\n",
       "      <td>fixed defect</td>\n",
       "      <td>1</td>\n",
       "    </tr>\n",
       "    <tr>\n",
       "      <th>110</th>\n",
       "      <td>61</td>\n",
       "      <td>0</td>\n",
       "      <td>asymptomatic</td>\n",
       "      <td>145.0</td>\n",
       "      <td>307.0</td>\n",
       "      <td>0</td>\n",
       "      <td>lv hypertrophy</td>\n",
       "      <td>146.0</td>\n",
       "      <td>1</td>\n",
       "      <td>1.0</td>\n",
       "      <td>flat</td>\n",
       "      <td>0.0</td>\n",
       "      <td>reversable defect</td>\n",
       "      <td>1</td>\n",
       "    </tr>\n",
       "    <tr>\n",
       "      <th>47</th>\n",
       "      <td>50</td>\n",
       "      <td>1</td>\n",
       "      <td>asymptomatic</td>\n",
       "      <td>150.0</td>\n",
       "      <td>243.0</td>\n",
       "      <td>0</td>\n",
       "      <td>lv hypertrophy</td>\n",
       "      <td>128.0</td>\n",
       "      <td>0</td>\n",
       "      <td>2.6</td>\n",
       "      <td>flat</td>\n",
       "      <td>0.0</td>\n",
       "      <td>reversable defect</td>\n",
       "      <td>1</td>\n",
       "    </tr>\n",
       "    <tr>\n",
       "      <th>247</th>\n",
       "      <td>47</td>\n",
       "      <td>1</td>\n",
       "      <td>asymptomatic</td>\n",
       "      <td>110.0</td>\n",
       "      <td>275.0</td>\n",
       "      <td>0</td>\n",
       "      <td>lv hypertrophy</td>\n",
       "      <td>118.0</td>\n",
       "      <td>1</td>\n",
       "      <td>1.0</td>\n",
       "      <td>flat</td>\n",
       "      <td>1.0</td>\n",
       "      <td>normal</td>\n",
       "      <td>1</td>\n",
       "    </tr>\n",
       "    <tr>\n",
       "      <th>295</th>\n",
       "      <td>41</td>\n",
       "      <td>1</td>\n",
       "      <td>atypical angina</td>\n",
       "      <td>120.0</td>\n",
       "      <td>157.0</td>\n",
       "      <td>0</td>\n",
       "      <td>normal</td>\n",
       "      <td>182.0</td>\n",
       "      <td>0</td>\n",
       "      <td>0.0</td>\n",
       "      <td>upsloping</td>\n",
       "      <td>0.0</td>\n",
       "      <td>normal</td>\n",
       "      <td>0</td>\n",
       "    </tr>\n",
       "    <tr>\n",
       "      <th>155</th>\n",
       "      <td>70</td>\n",
       "      <td>1</td>\n",
       "      <td>asymptomatic</td>\n",
       "      <td>130.0</td>\n",
       "      <td>322.0</td>\n",
       "      <td>0</td>\n",
       "      <td>lv hypertrophy</td>\n",
       "      <td>109.0</td>\n",
       "      <td>0</td>\n",
       "      <td>2.4</td>\n",
       "      <td>flat</td>\n",
       "      <td>3.0</td>\n",
       "      <td>normal</td>\n",
       "      <td>1</td>\n",
       "    </tr>\n",
       "    <tr>\n",
       "      <th>142</th>\n",
       "      <td>52</td>\n",
       "      <td>1</td>\n",
       "      <td>atypical angina</td>\n",
       "      <td>128.0</td>\n",
       "      <td>205.0</td>\n",
       "      <td>1</td>\n",
       "      <td>normal</td>\n",
       "      <td>184.0</td>\n",
       "      <td>0</td>\n",
       "      <td>0.0</td>\n",
       "      <td>upsloping</td>\n",
       "      <td>0.0</td>\n",
       "      <td>normal</td>\n",
       "      <td>0</td>\n",
       "    </tr>\n",
       "    <tr>\n",
       "      <th>299</th>\n",
       "      <td>68</td>\n",
       "      <td>1</td>\n",
       "      <td>asymptomatic</td>\n",
       "      <td>144.0</td>\n",
       "      <td>193.0</td>\n",
       "      <td>1</td>\n",
       "      <td>normal</td>\n",
       "      <td>141.0</td>\n",
       "      <td>0</td>\n",
       "      <td>3.4</td>\n",
       "      <td>flat</td>\n",
       "      <td>2.0</td>\n",
       "      <td>reversable defect</td>\n",
       "      <td>1</td>\n",
       "    </tr>\n",
       "    <tr>\n",
       "      <th>29</th>\n",
       "      <td>40</td>\n",
       "      <td>1</td>\n",
       "      <td>asymptomatic</td>\n",
       "      <td>110.0</td>\n",
       "      <td>167.0</td>\n",
       "      <td>0</td>\n",
       "      <td>lv hypertrophy</td>\n",
       "      <td>114.0</td>\n",
       "      <td>1</td>\n",
       "      <td>2.0</td>\n",
       "      <td>flat</td>\n",
       "      <td>0.0</td>\n",
       "      <td>reversable defect</td>\n",
       "      <td>1</td>\n",
       "    </tr>\n",
       "    <tr>\n",
       "      <th>42</th>\n",
       "      <td>71</td>\n",
       "      <td>0</td>\n",
       "      <td>atypical angina</td>\n",
       "      <td>160.0</td>\n",
       "      <td>302.0</td>\n",
       "      <td>0</td>\n",
       "      <td>normal</td>\n",
       "      <td>162.0</td>\n",
       "      <td>0</td>\n",
       "      <td>0.4</td>\n",
       "      <td>upsloping</td>\n",
       "      <td>2.0</td>\n",
       "      <td>normal</td>\n",
       "      <td>0</td>\n",
       "    </tr>\n",
       "    <tr>\n",
       "      <th>276</th>\n",
       "      <td>66</td>\n",
       "      <td>0</td>\n",
       "      <td>non-anginal</td>\n",
       "      <td>146.0</td>\n",
       "      <td>278.0</td>\n",
       "      <td>0</td>\n",
       "      <td>lv hypertrophy</td>\n",
       "      <td>152.0</td>\n",
       "      <td>0</td>\n",
       "      <td>0.0</td>\n",
       "      <td>flat</td>\n",
       "      <td>1.0</td>\n",
       "      <td>normal</td>\n",
       "      <td>0</td>\n",
       "    </tr>\n",
       "    <tr>\n",
       "      <th>58</th>\n",
       "      <td>54</td>\n",
       "      <td>1</td>\n",
       "      <td>non-anginal</td>\n",
       "      <td>125.0</td>\n",
       "      <td>273.0</td>\n",
       "      <td>0</td>\n",
       "      <td>lv hypertrophy</td>\n",
       "      <td>152.0</td>\n",
       "      <td>0</td>\n",
       "      <td>0.5</td>\n",
       "      <td>downsloping</td>\n",
       "      <td>1.0</td>\n",
       "      <td>normal</td>\n",
       "      <td>0</td>\n",
       "    </tr>\n",
       "    <tr>\n",
       "      <th>89</th>\n",
       "      <td>51</td>\n",
       "      <td>0</td>\n",
       "      <td>non-anginal</td>\n",
       "      <td>130.0</td>\n",
       "      <td>256.0</td>\n",
       "      <td>0</td>\n",
       "      <td>lv hypertrophy</td>\n",
       "      <td>149.0</td>\n",
       "      <td>0</td>\n",
       "      <td>0.5</td>\n",
       "      <td>upsloping</td>\n",
       "      <td>0.0</td>\n",
       "      <td>normal</td>\n",
       "      <td>0</td>\n",
       "    </tr>\n",
       "    <tr>\n",
       "      <th>170</th>\n",
       "      <td>70</td>\n",
       "      <td>1</td>\n",
       "      <td>non-anginal</td>\n",
       "      <td>160.0</td>\n",
       "      <td>269.0</td>\n",
       "      <td>0</td>\n",
       "      <td>normal</td>\n",
       "      <td>112.0</td>\n",
       "      <td>1</td>\n",
       "      <td>2.9</td>\n",
       "      <td>flat</td>\n",
       "      <td>1.0</td>\n",
       "      <td>reversable defect</td>\n",
       "      <td>1</td>\n",
       "    </tr>\n",
       "    <tr>\n",
       "      <th>79</th>\n",
       "      <td>58</td>\n",
       "      <td>1</td>\n",
       "      <td>asymptomatic</td>\n",
       "      <td>150.0</td>\n",
       "      <td>270.0</td>\n",
       "      <td>0</td>\n",
       "      <td>lv hypertrophy</td>\n",
       "      <td>111.0</td>\n",
       "      <td>1</td>\n",
       "      <td>0.8</td>\n",
       "      <td>upsloping</td>\n",
       "      <td>0.0</td>\n",
       "      <td>reversable defect</td>\n",
       "      <td>1</td>\n",
       "    </tr>\n",
       "    <tr>\n",
       "      <th>92</th>\n",
       "      <td>62</td>\n",
       "      <td>1</td>\n",
       "      <td>non-anginal</td>\n",
       "      <td>130.0</td>\n",
       "      <td>231.0</td>\n",
       "      <td>0</td>\n",
       "      <td>normal</td>\n",
       "      <td>146.0</td>\n",
       "      <td>0</td>\n",
       "      <td>1.8</td>\n",
       "      <td>flat</td>\n",
       "      <td>3.0</td>\n",
       "      <td>reversable defect</td>\n",
       "      <td>0</td>\n",
       "    </tr>\n",
       "    <tr>\n",
       "      <th>265</th>\n",
       "      <td>42</td>\n",
       "      <td>1</td>\n",
       "      <td>asymptomatic</td>\n",
       "      <td>136.0</td>\n",
       "      <td>315.0</td>\n",
       "      <td>0</td>\n",
       "      <td>normal</td>\n",
       "      <td>125.0</td>\n",
       "      <td>1</td>\n",
       "      <td>1.8</td>\n",
       "      <td>flat</td>\n",
       "      <td>0.0</td>\n",
       "      <td>fixed defect</td>\n",
       "      <td>1</td>\n",
       "    </tr>\n",
       "    <tr>\n",
       "      <th>238</th>\n",
       "      <td>49</td>\n",
       "      <td>0</td>\n",
       "      <td>atypical angina</td>\n",
       "      <td>134.0</td>\n",
       "      <td>271.0</td>\n",
       "      <td>0</td>\n",
       "      <td>normal</td>\n",
       "      <td>162.0</td>\n",
       "      <td>0</td>\n",
       "      <td>0.0</td>\n",
       "      <td>flat</td>\n",
       "      <td>0.0</td>\n",
       "      <td>normal</td>\n",
       "      <td>0</td>\n",
       "    </tr>\n",
       "    <tr>\n",
       "      <th>212</th>\n",
       "      <td>41</td>\n",
       "      <td>1</td>\n",
       "      <td>non-anginal</td>\n",
       "      <td>130.0</td>\n",
       "      <td>214.0</td>\n",
       "      <td>0</td>\n",
       "      <td>lv hypertrophy</td>\n",
       "      <td>168.0</td>\n",
       "      <td>0</td>\n",
       "      <td>2.0</td>\n",
       "      <td>flat</td>\n",
       "      <td>0.0</td>\n",
       "      <td>normal</td>\n",
       "      <td>0</td>\n",
       "    </tr>\n",
       "    <tr>\n",
       "      <th>167</th>\n",
       "      <td>54</td>\n",
       "      <td>0</td>\n",
       "      <td>atypical angina</td>\n",
       "      <td>132.0</td>\n",
       "      <td>288.0</td>\n",
       "      <td>1</td>\n",
       "      <td>lv hypertrophy</td>\n",
       "      <td>159.0</td>\n",
       "      <td>1</td>\n",
       "      <td>0.0</td>\n",
       "      <td>upsloping</td>\n",
       "      <td>1.0</td>\n",
       "      <td>normal</td>\n",
       "      <td>0</td>\n",
       "    </tr>\n",
       "    <tr>\n",
       "      <th>232</th>\n",
       "      <td>49</td>\n",
       "      <td>1</td>\n",
       "      <td>non-anginal</td>\n",
       "      <td>118.0</td>\n",
       "      <td>149.0</td>\n",
       "      <td>0</td>\n",
       "      <td>lv hypertrophy</td>\n",
       "      <td>126.0</td>\n",
       "      <td>0</td>\n",
       "      <td>0.8</td>\n",
       "      <td>upsloping</td>\n",
       "      <td>3.0</td>\n",
       "      <td>normal</td>\n",
       "      <td>1</td>\n",
       "    </tr>\n",
       "    <tr>\n",
       "      <th>291</th>\n",
       "      <td>55</td>\n",
       "      <td>0</td>\n",
       "      <td>atypical angina</td>\n",
       "      <td>132.0</td>\n",
       "      <td>342.0</td>\n",
       "      <td>0</td>\n",
       "      <td>normal</td>\n",
       "      <td>166.0</td>\n",
       "      <td>0</td>\n",
       "      <td>1.2</td>\n",
       "      <td>upsloping</td>\n",
       "      <td>0.0</td>\n",
       "      <td>normal</td>\n",
       "      <td>0</td>\n",
       "    </tr>\n",
       "  </tbody>\n",
       "</table>\n",
       "</div>"
      ],
      "text/plain": [
       "     age  sex               cp  trestbps   chol fbs         restecg  thalch  \\\n",
       "289   56    1  atypical angina     120.0  240.0   0          normal   169.0   \n",
       "34    44    1      non-anginal     130.0  233.0   0          normal   179.0   \n",
       "159   68    1      non-anginal     118.0  277.0   0          normal   151.0   \n",
       "88    53    0     asymptomatic     138.0  234.0   0  lv hypertrophy   160.0   \n",
       "222   39    0      non-anginal      94.0  199.0   0          normal   179.0   \n",
       "179   53    1      non-anginal     130.0  246.0   1  lv hypertrophy   173.0   \n",
       "261   58    0  atypical angina     136.0  319.0   1  lv hypertrophy   152.0   \n",
       "122   51    1      non-anginal     100.0  222.0   0          normal   143.0   \n",
       "10    57    1     asymptomatic     140.0  192.0   0          normal   148.0   \n",
       "204   43    1     asymptomatic     110.0  211.0   0          normal   161.0   \n",
       "220   41    0      non-anginal     112.0  268.0   0  lv hypertrophy   172.0   \n",
       "13    44    1  atypical angina     120.0  263.0   0          normal   173.0   \n",
       "177   56    1     asymptomatic     132.0  184.0   0  lv hypertrophy   105.0   \n",
       "60    51    0     asymptomatic     130.0  305.0   0          normal   142.0   \n",
       "189   69    1      non-anginal     140.0  254.0   0  lv hypertrophy   146.0   \n",
       "235   54    1     asymptomatic     122.0  286.0   0  lv hypertrophy   116.0   \n",
       "77    51    0      non-anginal     140.0  308.0   0  lv hypertrophy   142.0   \n",
       "134   43    0      non-anginal     122.0  213.0   0          normal   165.0   \n",
       "187   66    1  atypical angina     160.0  246.0   0          normal   120.0   \n",
       "110   61    0     asymptomatic     145.0  307.0   0  lv hypertrophy   146.0   \n",
       "47    50    1     asymptomatic     150.0  243.0   0  lv hypertrophy   128.0   \n",
       "247   47    1     asymptomatic     110.0  275.0   0  lv hypertrophy   118.0   \n",
       "295   41    1  atypical angina     120.0  157.0   0          normal   182.0   \n",
       "155   70    1     asymptomatic     130.0  322.0   0  lv hypertrophy   109.0   \n",
       "142   52    1  atypical angina     128.0  205.0   1          normal   184.0   \n",
       "299   68    1     asymptomatic     144.0  193.0   1          normal   141.0   \n",
       "29    40    1     asymptomatic     110.0  167.0   0  lv hypertrophy   114.0   \n",
       "42    71    0  atypical angina     160.0  302.0   0          normal   162.0   \n",
       "276   66    0      non-anginal     146.0  278.0   0  lv hypertrophy   152.0   \n",
       "58    54    1      non-anginal     125.0  273.0   0  lv hypertrophy   152.0   \n",
       "89    51    0      non-anginal     130.0  256.0   0  lv hypertrophy   149.0   \n",
       "170   70    1      non-anginal     160.0  269.0   0          normal   112.0   \n",
       "79    58    1     asymptomatic     150.0  270.0   0  lv hypertrophy   111.0   \n",
       "92    62    1      non-anginal     130.0  231.0   0          normal   146.0   \n",
       "265   42    1     asymptomatic     136.0  315.0   0          normal   125.0   \n",
       "238   49    0  atypical angina     134.0  271.0   0          normal   162.0   \n",
       "212   41    1      non-anginal     130.0  214.0   0  lv hypertrophy   168.0   \n",
       "167   54    0  atypical angina     132.0  288.0   1  lv hypertrophy   159.0   \n",
       "232   49    1      non-anginal     118.0  149.0   0  lv hypertrophy   126.0   \n",
       "291   55    0  atypical angina     132.0  342.0   0          normal   166.0   \n",
       "\n",
       "    exang  oldpeak        slope   ca               thal  target  \n",
       "289     0      0.0  downsloping  0.0             normal       0  \n",
       "34      1      0.4    upsloping  0.0             normal       0  \n",
       "159     0      1.0    upsloping  1.0  reversable defect       0  \n",
       "88      0      0.0    upsloping  0.0             normal       0  \n",
       "222     0      0.0    upsloping  0.0             normal       0  \n",
       "179     0      0.0    upsloping  3.0             normal       0  \n",
       "261     0      0.0    upsloping  2.0             normal       1  \n",
       "122     1      1.2         flat  0.0             normal       0  \n",
       "10      0      0.4         flat  0.0       fixed defect       0  \n",
       "204     0      0.0    upsloping  0.0  reversable defect       0  \n",
       "220     1      0.0    upsloping  0.0             normal       0  \n",
       "13      0      0.0    upsloping  0.0  reversable defect       0  \n",
       "177     1      2.1         flat  1.0       fixed defect       1  \n",
       "60      1      1.2         flat  0.0  reversable defect       1  \n",
       "189     0      2.0         flat  3.0  reversable defect       1  \n",
       "235     1      3.2         flat  2.0             normal       1  \n",
       "77      0      1.5    upsloping  1.0             normal       0  \n",
       "134     0      0.2         flat  0.0             normal       0  \n",
       "187     1      0.0         flat  3.0       fixed defect       1  \n",
       "110     1      1.0         flat  0.0  reversable defect       1  \n",
       "47      0      2.6         flat  0.0  reversable defect       1  \n",
       "247     1      1.0         flat  1.0             normal       1  \n",
       "295     0      0.0    upsloping  0.0             normal       0  \n",
       "155     0      2.4         flat  3.0             normal       1  \n",
       "142     0      0.0    upsloping  0.0             normal       0  \n",
       "299     0      3.4         flat  2.0  reversable defect       1  \n",
       "29      1      2.0         flat  0.0  reversable defect       1  \n",
       "42      0      0.4    upsloping  2.0             normal       0  \n",
       "276     0      0.0         flat  1.0             normal       0  \n",
       "58      0      0.5  downsloping  1.0             normal       0  \n",
       "89      0      0.5    upsloping  0.0             normal       0  \n",
       "170     1      2.9         flat  1.0  reversable defect       1  \n",
       "79      1      0.8    upsloping  0.0  reversable defect       1  \n",
       "92      0      1.8         flat  3.0  reversable defect       0  \n",
       "265     1      1.8         flat  0.0       fixed defect       1  \n",
       "238     0      0.0         flat  0.0             normal       0  \n",
       "212     0      2.0         flat  0.0             normal       0  \n",
       "167     1      0.0    upsloping  1.0             normal       0  \n",
       "232     0      0.8    upsloping  3.0             normal       1  \n",
       "291     0      1.2    upsloping  0.0             normal       0  "
      ]
     },
     "execution_count": 160,
     "metadata": {},
     "output_type": "execute_result"
    }
   ],
   "source": [
    "df.head(40)"
   ]
  },
  {
   "cell_type": "markdown",
   "metadata": {
    "hidden": true
   },
   "source": [
    "<b> One hot encoding to convert categorical feature using dummy variables </b>\n",
    "\n",
    "This will transform categorical features into multiple spllits depending upon the number of unique values the original feature has"
   ]
  },
  {
   "cell_type": "code",
   "execution_count": 161,
   "metadata": {
    "hidden": true
   },
   "outputs": [
    {
     "data": {
      "text/plain": [
       "Index(['age', 'sex', 'trestbps', 'chol', 'thalch', 'oldpeak', 'ca',\n",
       "       'cp_asymptomatic', 'cp_atypical angina', 'cp_non-anginal',\n",
       "       'cp_typical angina', 'restecg_lv hypertrophy', 'restecg_normal',\n",
       "       'restecg_st-t abnormality', 'slope_downsloping', 'slope_flat',\n",
       "       'slope_upsloping', 'thal_fixed defect', 'thal_normal',\n",
       "       'thal_reversable defect', 'fbs', 'exang'],\n",
       "      dtype='object')"
      ]
     },
     "execution_count": 161,
     "metadata": {},
     "output_type": "execute_result"
    }
   ],
   "source": [
    "df1=pd.get_dummies(df.drop(['target','fbs','exang'],axis=1),drop_first=False)\n",
    "df1['fbs'] = df['fbs'].copy()\n",
    "df1['exang'] = df['exang'].copy()\n",
    "df1.columns"
   ]
  },
  {
   "cell_type": "code",
   "execution_count": 162,
   "metadata": {
    "hidden": true
   },
   "outputs": [
    {
     "data": {
      "text/html": [
       "<div>\n",
       "<style scoped>\n",
       "    .dataframe tbody tr th:only-of-type {\n",
       "        vertical-align: middle;\n",
       "    }\n",
       "\n",
       "    .dataframe tbody tr th {\n",
       "        vertical-align: top;\n",
       "    }\n",
       "\n",
       "    .dataframe thead th {\n",
       "        text-align: right;\n",
       "    }\n",
       "</style>\n",
       "<table border=\"1\" class=\"dataframe\">\n",
       "  <thead>\n",
       "    <tr style=\"text-align: right;\">\n",
       "      <th></th>\n",
       "      <th>age</th>\n",
       "      <th>sex</th>\n",
       "      <th>trestbps</th>\n",
       "      <th>chol</th>\n",
       "      <th>thalch</th>\n",
       "      <th>oldpeak</th>\n",
       "      <th>ca</th>\n",
       "      <th>cp_asymptomatic</th>\n",
       "      <th>cp_atypical angina</th>\n",
       "      <th>cp_non-anginal</th>\n",
       "      <th>...</th>\n",
       "      <th>restecg_normal</th>\n",
       "      <th>restecg_st-t abnormality</th>\n",
       "      <th>slope_downsloping</th>\n",
       "      <th>slope_flat</th>\n",
       "      <th>slope_upsloping</th>\n",
       "      <th>thal_fixed defect</th>\n",
       "      <th>thal_normal</th>\n",
       "      <th>thal_reversable defect</th>\n",
       "      <th>fbs</th>\n",
       "      <th>exang</th>\n",
       "    </tr>\n",
       "  </thead>\n",
       "  <tbody>\n",
       "    <tr>\n",
       "      <th>289</th>\n",
       "      <td>56</td>\n",
       "      <td>1</td>\n",
       "      <td>120.0</td>\n",
       "      <td>240.0</td>\n",
       "      <td>169.0</td>\n",
       "      <td>0.0</td>\n",
       "      <td>0.0</td>\n",
       "      <td>0</td>\n",
       "      <td>1</td>\n",
       "      <td>0</td>\n",
       "      <td>...</td>\n",
       "      <td>1</td>\n",
       "      <td>0</td>\n",
       "      <td>1</td>\n",
       "      <td>0</td>\n",
       "      <td>0</td>\n",
       "      <td>0</td>\n",
       "      <td>1</td>\n",
       "      <td>0</td>\n",
       "      <td>0</td>\n",
       "      <td>0</td>\n",
       "    </tr>\n",
       "    <tr>\n",
       "      <th>34</th>\n",
       "      <td>44</td>\n",
       "      <td>1</td>\n",
       "      <td>130.0</td>\n",
       "      <td>233.0</td>\n",
       "      <td>179.0</td>\n",
       "      <td>0.4</td>\n",
       "      <td>0.0</td>\n",
       "      <td>0</td>\n",
       "      <td>0</td>\n",
       "      <td>1</td>\n",
       "      <td>...</td>\n",
       "      <td>1</td>\n",
       "      <td>0</td>\n",
       "      <td>0</td>\n",
       "      <td>0</td>\n",
       "      <td>1</td>\n",
       "      <td>0</td>\n",
       "      <td>1</td>\n",
       "      <td>0</td>\n",
       "      <td>0</td>\n",
       "      <td>1</td>\n",
       "    </tr>\n",
       "    <tr>\n",
       "      <th>159</th>\n",
       "      <td>68</td>\n",
       "      <td>1</td>\n",
       "      <td>118.0</td>\n",
       "      <td>277.0</td>\n",
       "      <td>151.0</td>\n",
       "      <td>1.0</td>\n",
       "      <td>1.0</td>\n",
       "      <td>0</td>\n",
       "      <td>0</td>\n",
       "      <td>1</td>\n",
       "      <td>...</td>\n",
       "      <td>1</td>\n",
       "      <td>0</td>\n",
       "      <td>0</td>\n",
       "      <td>0</td>\n",
       "      <td>1</td>\n",
       "      <td>0</td>\n",
       "      <td>0</td>\n",
       "      <td>1</td>\n",
       "      <td>0</td>\n",
       "      <td>0</td>\n",
       "    </tr>\n",
       "    <tr>\n",
       "      <th>88</th>\n",
       "      <td>53</td>\n",
       "      <td>0</td>\n",
       "      <td>138.0</td>\n",
       "      <td>234.0</td>\n",
       "      <td>160.0</td>\n",
       "      <td>0.0</td>\n",
       "      <td>0.0</td>\n",
       "      <td>1</td>\n",
       "      <td>0</td>\n",
       "      <td>0</td>\n",
       "      <td>...</td>\n",
       "      <td>0</td>\n",
       "      <td>0</td>\n",
       "      <td>0</td>\n",
       "      <td>0</td>\n",
       "      <td>1</td>\n",
       "      <td>0</td>\n",
       "      <td>1</td>\n",
       "      <td>0</td>\n",
       "      <td>0</td>\n",
       "      <td>0</td>\n",
       "    </tr>\n",
       "    <tr>\n",
       "      <th>222</th>\n",
       "      <td>39</td>\n",
       "      <td>0</td>\n",
       "      <td>94.0</td>\n",
       "      <td>199.0</td>\n",
       "      <td>179.0</td>\n",
       "      <td>0.0</td>\n",
       "      <td>0.0</td>\n",
       "      <td>0</td>\n",
       "      <td>0</td>\n",
       "      <td>1</td>\n",
       "      <td>...</td>\n",
       "      <td>1</td>\n",
       "      <td>0</td>\n",
       "      <td>0</td>\n",
       "      <td>0</td>\n",
       "      <td>1</td>\n",
       "      <td>0</td>\n",
       "      <td>1</td>\n",
       "      <td>0</td>\n",
       "      <td>0</td>\n",
       "      <td>0</td>\n",
       "    </tr>\n",
       "  </tbody>\n",
       "</table>\n",
       "<p>5 rows × 22 columns</p>\n",
       "</div>"
      ],
      "text/plain": [
       "     age  sex  trestbps   chol  thalch  oldpeak   ca  cp_asymptomatic  \\\n",
       "289   56    1     120.0  240.0   169.0      0.0  0.0                0   \n",
       "34    44    1     130.0  233.0   179.0      0.4  0.0                0   \n",
       "159   68    1     118.0  277.0   151.0      1.0  1.0                0   \n",
       "88    53    0     138.0  234.0   160.0      0.0  0.0                1   \n",
       "222   39    0      94.0  199.0   179.0      0.0  0.0                0   \n",
       "\n",
       "     cp_atypical angina  cp_non-anginal  ...  restecg_normal  \\\n",
       "289                   1               0  ...               1   \n",
       "34                    0               1  ...               1   \n",
       "159                   0               1  ...               1   \n",
       "88                    0               0  ...               0   \n",
       "222                   0               1  ...               1   \n",
       "\n",
       "     restecg_st-t abnormality  slope_downsloping  slope_flat  slope_upsloping  \\\n",
       "289                         0                  1           0                0   \n",
       "34                          0                  0           0                1   \n",
       "159                         0                  0           0                1   \n",
       "88                          0                  0           0                1   \n",
       "222                         0                  0           0                1   \n",
       "\n",
       "     thal_fixed defect  thal_normal  thal_reversable defect  fbs  exang  \n",
       "289                  0            1                       0    0      0  \n",
       "34                   0            1                       0    0      1  \n",
       "159                  0            0                       1    0      0  \n",
       "88                   0            1                       0    0      0  \n",
       "222                  0            1                       0    0      0  \n",
       "\n",
       "[5 rows x 22 columns]"
      ]
     },
     "execution_count": 162,
     "metadata": {},
     "output_type": "execute_result"
    }
   ],
   "source": [
    "df1.head()"
   ]
  },
  {
   "cell_type": "markdown",
   "metadata": {
    "heading_collapsed": true
   },
   "source": [
    "## Model Building"
   ]
  },
  {
   "cell_type": "markdown",
   "metadata": {
    "hidden": true
   },
   "source": [
    "<b>Splitting the data in train and test data:</b><br>\n",
    "For testing the accuracy of model we have to divide the data in two parts namely :\n",
    "1. Train : This will be used for model development\n",
    "2. Test : This will be used for model testing on unseen data that we will keep as hold out"
   ]
  },
  {
   "cell_type": "code",
   "execution_count": 170,
   "metadata": {
    "ExecuteTime": {
     "end_time": "2020-11-27T14:00:05.004107Z",
     "start_time": "2020-11-27T14:00:04.999729Z"
    },
    "hidden": true
   },
   "outputs": [],
   "source": [
    "X=df1\n",
    "Y=df['target']\n",
    "X_train, X_test, Y_train,Y_test = train_test_split(X,Y,test_size=.2, random_state=144)\n"
   ]
  },
  {
   "cell_type": "markdown",
   "metadata": {
    "hidden": true
   },
   "source": [
    "<b> Data Normalization : </b><br>\n",
    "Normalisation helps in reducing the training time by helping the optimization algorithm running in backend to converse faster.\n",
    "<br><br>\n",
    "As all the features are on different scale, so we have to normalise the data to bring all the variables/features on same scale without changing their inherent distribution.Here we are using MinMaxScaler for normalisation which is described by below formula :<br>\n",
    "x_new=(x-min)/(max-min)\n"
   ]
  },
  {
   "cell_type": "code",
   "execution_count": 171,
   "metadata": {
    "hidden": true
   },
   "outputs": [],
   "source": [
    "scaler = MinMaxScaler()\n",
    "scaler.fit(X_train)\n",
    "X_train = scaler.transform(X_train)\n",
    "X_test = scaler.transform(X_test)\n",
    "X_test_un = scaler.inverse_transform(X_test)"
   ]
  },
  {
   "cell_type": "markdown",
   "metadata": {
    "hidden": true
   },
   "source": [
    "<b>Classification Model :</b><br>\n",
    "We are applying Logistic Regression method for fitting the data to predict heart disease class.It is the basic algorithm that is used for binary classification problems.\n",
    "\n",
    "<b>Cross Validation Approach : </b><br>\n",
    "Here, we are using cross validation approach to get the average accuracy of model in robust manner, as sometimes the split that goes in valid data is highly similar or highly disimilar from training part. Hence, inference from accuracy numbers will be biased. So , we are using 10 fold validation approach to make it more robust to data changes "
   ]
  },
  {
   "cell_type": "code",
   "execution_count": 172,
   "metadata": {
    "hidden": true
   },
   "outputs": [],
   "source": [
    "clf = LogisticRegression(random_state=121)\n",
    "scores = cross_validate(clf, X_train, Y_train, scoring='roc_auc',cv=10,return_estimator=True)"
   ]
  },
  {
   "cell_type": "code",
   "execution_count": 173,
   "metadata": {
    "hidden": true
   },
   "outputs": [
    {
     "name": "stdout",
     "output_type": "stream",
     "text": [
      "0.8834353146853147\n"
     ]
    }
   ],
   "source": [
    "print(np.mean(scores['test_score']))\n",
    "best_model = np.argmax(scores['test_score'])"
   ]
  },
  {
   "cell_type": "code",
   "execution_count": 174,
   "metadata": {
    "hidden": true
   },
   "outputs": [
    {
     "data": {
      "text/plain": [
       "array([0.95833333, 0.89583333, 0.86013986, 0.84615385, 0.90909091,\n",
       "       0.77622378, 0.88811189, 0.94405594, 0.92307692, 0.83333333])"
      ]
     },
     "execution_count": 174,
     "metadata": {},
     "output_type": "execute_result"
    }
   ],
   "source": [
    "scores['test_score']"
   ]
  },
  {
   "cell_type": "markdown",
   "metadata": {
    "heading_collapsed": true
   },
   "source": [
    "## Model Results Analysis"
   ]
  },
  {
   "cell_type": "markdown",
   "metadata": {
    "hidden": true
   },
   "source": [
    "Here, we have using the model from Cross validation which has accuracy near to the mean accuracy for making prediction on hold out dataset that is Test Data "
   ]
  },
  {
   "cell_type": "code",
   "execution_count": 175,
   "metadata": {
    "hidden": true
   },
   "outputs": [
    {
     "name": "stdout",
     "output_type": "stream",
     "text": [
      "Test Accuracy 88.46%\n",
      "Train Accuracy:89.32% \n"
     ]
    }
   ],
   "source": [
    "logreg=scores['estimator'][4]\n",
    "Y_pred=logreg.predict(X_test)\n",
    "y_p = logreg.predict(X_train)\n",
    "print('Test Accuracy {:.2f}%'.format(metrics.precision_score(Y_test,Y_pred)*100))\n",
    "print(\"Train Accuracy:{:.2f}% \".format(metrics.precision_score(Y_train, y_p)*100))"
   ]
  },
  {
   "cell_type": "markdown",
   "metadata": {
    "hidden": true
   },
   "source": [
    "<b>Logistic Regression Model Coefficient :</b><br>\n",
    "Below is the bar plot of how the different features had impact on the target variable"
   ]
  },
  {
   "cell_type": "code",
   "execution_count": 176,
   "metadata": {
    "hidden": true
   },
   "outputs": [
    {
     "data": {
      "text/plain": [
       "<BarContainer object of 22 artists>"
      ]
     },
     "execution_count": 176,
     "metadata": {},
     "output_type": "execute_result"
    },
    {
     "data": {
      "image/png": "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\n",
      "text/plain": [
       "<Figure size 720x1080 with 1 Axes>"
      ]
     },
     "metadata": {
      "needs_background": "light"
     },
     "output_type": "display_data"
    }
   ],
   "source": [
    "plt.figure(figsize=(10,15))\n",
    "plt.barh(list(df1.columns),list(scores['estimator'][6].coef_[0]))"
   ]
  },
  {
   "cell_type": "markdown",
   "metadata": {
    "hidden": true
   },
   "source": [
    "<b> Confusion Matrix Analysis </b>"
   ]
  },
  {
   "cell_type": "code",
   "execution_count": 177,
   "metadata": {
    "hidden": true
   },
   "outputs": [
    {
     "data": {
      "text/plain": [
       "array([[30,  3],\n",
       "       [ 4, 23]], dtype=int64)"
      ]
     },
     "execution_count": 177,
     "metadata": {},
     "output_type": "execute_result"
    }
   ],
   "source": [
    "cnf_matrix = metrics.confusion_matrix(Y_test, Y_pred)\n",
    "cnf_matrix"
   ]
  },
  {
   "cell_type": "code",
   "execution_count": 178,
   "metadata": {
    "hidden": true,
    "scrolled": true
   },
   "outputs": [
    {
     "data": {
      "text/plain": [
       "Text(0.5, 15.0, 'Predicted label')"
      ]
     },
     "execution_count": 178,
     "metadata": {},
     "output_type": "execute_result"
    },
    {
     "data": {
      "image/png": "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\n",
      "text/plain": [
       "<Figure size 432x288 with 2 Axes>"
      ]
     },
     "metadata": {
      "needs_background": "light"
     },
     "output_type": "display_data"
    }
   ],
   "source": [
    "class_names=[0,1] # name  of classes\n",
    "fig, ax = plt.subplots()\n",
    "tick_marks = np.arange(len(class_names))\n",
    "plt.xticks(tick_marks)\n",
    "plt.yticks(tick_marks)\n",
    "# create heatmap\n",
    "sns.heatmap(pd.DataFrame(cnf_matrix), cmap=\"YlGnBu\")\n",
    "ax.xaxis.set_label_position(\"top\")\n",
    "plt.title('Confusion matrix', y=1.1)\n",
    "plt.ylabel('Actual label')\n",
    "plt.xlabel('Predicted label')"
   ]
  },
  {
   "cell_type": "markdown",
   "metadata": {
    "hidden": true
   },
   "source": [
    "<b>Precision and Recall Calculation</b>"
   ]
  },
  {
   "cell_type": "code",
   "execution_count": 179,
   "metadata": {
    "hidden": true,
    "scrolled": true
   },
   "outputs": [
    {
     "name": "stdout",
     "output_type": "stream",
     "text": [
      "Train Accuracy:87.03% \n",
      "Test Accuracy:88.33% \n",
      "Train Precision: 0.8932038834951457\n",
      "Train Recall: 0.8214285714285714\n",
      "Test Precision: 0.8846153846153846\n",
      "Test Recall: 0.8518518518518519\n"
     ]
    }
   ],
   "source": [
    "print(\"Train Accuracy:{:.2f}% \".format(metrics.accuracy_score(Y_train, y_p)*100))\n",
    "print(\"Test Accuracy:{:.2f}% \".format(metrics.accuracy_score(Y_test, Y_pred)*100))\n",
    "print(\"Train Precision:\",metrics.precision_score(Y_train, y_p))\n",
    "print(\"Train Recall:\",metrics.recall_score(Y_train, y_p))\n",
    "print(\"Test Precision:\",metrics.precision_score(Y_test, Y_pred))\n",
    "print(\"Test Recall:\",metrics.recall_score(Y_test, Y_pred))"
   ]
  },
  {
   "cell_type": "markdown",
   "metadata": {
    "hidden": true
   },
   "source": [
    "<b> ROC Analysis</b>"
   ]
  },
  {
   "cell_type": "markdown",
   "metadata": {
    "hidden": true
   },
   "source": [
    "Train Data"
   ]
  },
  {
   "cell_type": "code",
   "execution_count": 180,
   "metadata": {
    "hidden": true
   },
   "outputs": [
    {
     "data": {
      "image/png": "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\n",
      "text/plain": [
       "<Figure size 432x288 with 1 Axes>"
      ]
     },
     "metadata": {
      "needs_background": "light"
     },
     "output_type": "display_data"
    }
   ],
   "source": [
    "Y_pred_proba = logreg.predict_proba(X_train)[:,1]\n",
    "fpr, tpr, _ = metrics.roc_curve(Y_train,  Y_pred_proba)\n",
    "auc = metrics.roc_auc_score(Y_train, Y_pred_proba)\n",
    "plt.plot(fpr,tpr,label=\"auc=\"+str(auc))\n",
    "plt.legend(loc=4)\n",
    "plt.show()\n",
    "# Y_pred_proba"
   ]
  },
  {
   "cell_type": "markdown",
   "metadata": {
    "hidden": true
   },
   "source": [
    "Test Data"
   ]
  },
  {
   "cell_type": "code",
   "execution_count": 181,
   "metadata": {
    "hidden": true,
    "scrolled": false
   },
   "outputs": [
    {
     "data": {
      "image/png": "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\n",
      "text/plain": [
       "<Figure size 432x288 with 1 Axes>"
      ]
     },
     "metadata": {
      "needs_background": "light"
     },
     "output_type": "display_data"
    }
   ],
   "source": [
    "Y_pred_proba = logreg.predict_proba(X_test)[:,1]\n",
    "fpr, tpr, _ = metrics.roc_curve(Y_test,  Y_pred_proba)\n",
    "auc = metrics.roc_auc_score(Y_test, Y_pred_proba)\n",
    "plt.plot(fpr,tpr,label=\"auc=\"+str(auc))\n",
    "plt.legend(loc=4)\n",
    "plt.show()\n",
    "# Y_pred_proba"
   ]
  },
  {
   "cell_type": "markdown",
   "metadata": {
    "heading_collapsed": true
   },
   "source": [
    "## Other Model Exploration"
   ]
  },
  {
   "cell_type": "markdown",
   "metadata": {
    "hidden": true
   },
   "source": [
    "Here, we have tried to use Support Vector Machine Classification Model.But, as we see below accuracy is less on test data as compared to logistic regression"
   ]
  },
  {
   "cell_type": "code",
   "execution_count": 182,
   "metadata": {
    "hidden": true
   },
   "outputs": [
    {
     "name": "stdout",
     "output_type": "stream",
     "text": [
      "Test SVC accuracy: 86.67%\n"
     ]
    }
   ],
   "source": [
    "from sklearn.svm import SVC\n",
    "svm = SVC(kernel='linear', random_state = 112)\n",
    "svm.fit(X_train, Y_train)\n",
    "print(\"Test SVC accuracy: {:.2f}%\".format(svm.score(X_test, Y_test)*100))\n",
    "b"
   ]
  }
 ],
 "metadata": {
  "kernelspec": {
   "display_name": "Python 3",
   "language": "python",
   "name": "python3"
  },
  "language_info": {
   "codemirror_mode": {
    "name": "ipython",
    "version": 3
   },
   "file_extension": ".py",
   "mimetype": "text/x-python",
   "name": "python",
   "nbconvert_exporter": "python",
   "pygments_lexer": "ipython3",
   "version": "3.8.2"
  },
  "latex_envs": {
   "LaTeX_envs_menu_present": true,
   "autoclose": false,
   "autocomplete": true,
   "bibliofile": "biblio.bib",
   "cite_by": "apalike",
   "current_citInitial": 1,
   "eqLabelWithNumbers": true,
   "eqNumInitial": 1,
   "hotkeys": {
    "equation": "Ctrl-E",
    "itemize": "Ctrl-I"
   },
   "labels_anchors": false,
   "latex_user_defs": false,
   "report_style_numbering": false,
   "user_envs_cfg": false
  },
  "toc": {
   "base_numbering": 1,
   "nav_menu": {},
   "number_sections": true,
   "sideBar": true,
   "skip_h1_title": false,
   "title_cell": "Table of Contents",
   "title_sidebar": "Contents",
   "toc_cell": false,
   "toc_position": {},
   "toc_section_display": true,
   "toc_window_display": false
  },
  "varInspector": {
   "cols": {
    "lenName": 16,
    "lenType": 16,
    "lenVar": 40
   },
   "kernels_config": {
    "python": {
     "delete_cmd_postfix": "",
     "delete_cmd_prefix": "del ",
     "library": "var_list.py",
     "varRefreshCmd": "print(var_dic_list())"
    },
    "r": {
     "delete_cmd_postfix": ") ",
     "delete_cmd_prefix": "rm(",
     "library": "var_list.r",
     "varRefreshCmd": "cat(var_dic_list()) "
    }
   },
   "types_to_exclude": [
    "module",
    "function",
    "builtin_function_or_method",
    "instance",
    "_Feature"
   ],
   "window_display": false
  }
 },
 "nbformat": 4,
 "nbformat_minor": 4
}
